{
 "cells": [
  {
   "cell_type": "code",
   "execution_count": 1,
   "metadata": {
    "collapsed": true
   },
   "outputs": [],
   "source": [
    "import numpy as np\n",
    "from collections import Counter\n",
    "import nltk\n",
    "from nltk.tokenize import word_tokenize\n",
    "from nltk.stem.wordnet import WordNetLemmatizer\n",
    "import string\n",
    "from scipy.spatial.distance import pdist, squareform\n",
    "from sklearn.feature_extraction.text import TfidfVectorizer, CountVectorizer"
   ]
  },
  {
   "cell_type": "markdown",
   "metadata": {},
   "source": [
    "### Corpus: list of documents\n",
    "    ['This roller coaster is too, too rickety.', \n",
    "    'Roller coasters give me hives.', \n",
    "    'That bee hive is approaching at an alarming speed.']\n",
    "### Term frequency\n",
    "$$TF_{word,document} = \\frac{\\#\\_of\\_times\\_word\\_appears\\_in\\_document}{total\\_\\#\\_of\\_words\\_in\\_document}$$\n",
    "### Inverse document frequency\n",
    "$$ IDF_{word} = \\log\\left(\\frac{total\\_\\#\\_of\\_documents}{\\#\\_of\\_documents\\_containing\\_word}\\right) $$"
   ]
  },
  {
   "cell_type": "code",
   "execution_count": 5,
   "metadata": {},
   "outputs": [
    {
     "data": {
      "text/plain": [
       "[['this', 'roller', 'coaster', 'is', 'too', 'too', 'rickety'],\n",
       " ['roller', 'coasters', 'give', 'me', 'hives'],\n",
       " ['that', 'bee', 'hive', 'is', 'approaching', 'at', 'an', 'alarming', 'speed']]"
      ]
     },
     "execution_count": 5,
     "metadata": {},
     "output_type": "execute_result"
    }
   ],
   "source": [
    "corpus = ['This roller coaster is too, too rickety.', \n",
    "    'Roller coasters give me hives.', \n",
    "    'That bee hive is approaching at an alarming speed.']\n",
    "\n",
    "# tokenized_doc = [doc.lower().split() for doc in corpus]\n",
    "# tokenized_doc = [word_tokenize(doc.lower()) for doc in corpus]\n",
    "\n",
    "def our_tokenizer(doc):\n",
    "    doc = word_tokenize(doc.lower())\n",
    "    return [tok for tok in doc if tok not in string.punctuation]\n",
    "\n",
    "tokenized_docs = [our_tokenizer(doc) for doc in corpus]\n",
    "tokenized_docs"
   ]
  },
  {
   "cell_type": "code",
   "execution_count": 6,
   "metadata": {},
   "outputs": [
    {
     "data": {
      "text/plain": [
       "['alarming',\n",
       " 'an',\n",
       " 'approaching',\n",
       " 'at',\n",
       " 'bee',\n",
       " 'coaster',\n",
       " 'coasters',\n",
       " 'give',\n",
       " 'hive',\n",
       " 'hives',\n",
       " 'is',\n",
       " 'me',\n",
       " 'rickety',\n",
       " 'roller',\n",
       " 'speed',\n",
       " 'that',\n",
       " 'this',\n",
       " 'too']"
      ]
     },
     "execution_count": 6,
     "metadata": {},
     "output_type": "execute_result"
    }
   ],
   "source": [
    "vocab = set()\n",
    "\n",
    "for doc in tokenized_docs:\n",
    "    vocab.update(doc)\n",
    "    \n",
    "vocab = sorted(list(vocab))\n",
    "vocab"
   ]
  },
  {
   "cell_type": "code",
   "execution_count": 7,
   "metadata": {},
   "outputs": [
    {
     "data": {
      "text/plain": [
       "Counter({'coaster': 1,\n",
       "         'is': 1,\n",
       "         'rickety': 1,\n",
       "         'roller': 1,\n",
       "         'this': 1,\n",
       "         'too': 2})"
      ]
     },
     "execution_count": 7,
     "metadata": {},
     "output_type": "execute_result"
    }
   ],
   "source": [
    "Counter(tokenized_docs[0])"
   ]
  },
  {
   "cell_type": "code",
   "execution_count": 9,
   "metadata": {},
   "outputs": [
    {
     "data": {
      "text/plain": [
       "array([ 0.,  0.,  0.,  0.,  0.,  1.,  0.,  0.,  0.,  0.,  1.,  0.,  1.,\n",
       "        1.,  0.,  0.,  1.,  2.])"
      ]
     },
     "execution_count": 9,
     "metadata": {},
     "output_type": "execute_result"
    }
   ],
   "source": [
    "doc_vec = np.zeros(len(vocab))\n",
    "for word, count in Counter(tokenized_docs[0]).items():\n",
    "    ind = vocab.index(word)\n",
    "    doc_vec[ind] = count\n",
    "doc_vec"
   ]
  },
  {
   "cell_type": "markdown",
   "metadata": {},
   "source": [
    "## sklearn"
   ]
  },
  {
   "cell_type": "code",
   "execution_count": 12,
   "metadata": {},
   "outputs": [
    {
     "data": {
      "text/plain": [
       "['alarming',\n",
       " 'approaching',\n",
       " 'bee',\n",
       " 'coaster',\n",
       " 'coasters',\n",
       " 'hive',\n",
       " 'hives',\n",
       " 'rickety',\n",
       " 'roller',\n",
       " 'speed']"
      ]
     },
     "execution_count": 12,
     "metadata": {},
     "output_type": "execute_result"
    }
   ],
   "source": [
    "vect = TfidfVectorizer(stop_words='english')\n",
    "vector_matrix = vect.fit(corpus)\n",
    "vect.get_feature_names()"
   ]
  },
  {
   "cell_type": "code",
   "execution_count": 13,
   "metadata": {},
   "outputs": [
    {
     "data": {
      "text/plain": [
       "[['This', 'roller', 'coaster', 'is', 'too', ',', 'too', 'rickety', '.'],\n",
       " ['Roller', 'coasters', 'give', 'me', 'hives', '.'],\n",
       " ['That',\n",
       "  'bee',\n",
       "  'hive',\n",
       "  'is',\n",
       "  'approaching',\n",
       "  'at',\n",
       "  'an',\n",
       "  'alarming',\n",
       "  'speed',\n",
       "  '.']]"
      ]
     },
     "execution_count": 13,
     "metadata": {},
     "output_type": "execute_result"
    }
   ],
   "source": [
    "[word_tokenize(doc) for doc in corpus]"
   ]
  },
  {
   "cell_type": "code",
   "execution_count": 15,
   "metadata": {},
   "outputs": [
    {
     "name": "stdout",
     "output_type": "stream",
     "text": [
      "[['this', 'roller', 'coaster', 'is', 'too', 'too', 'rickety'], ['roller', 'coasters', 'give', 'me', 'hives'], ['that', 'bee', 'hive', 'is', 'approaching', 'at', 'an', 'alarming', 'speed']]\n",
      "\n",
      "[['this', 'roller', 'coaster', 'is', 'too', 'too', 'rickety'], ['roller', 'coaster', 'give', 'me', 'hive'], ['that', 'bee', 'hive', 'is', 'approaching', 'at', 'an', 'alarming', 'speed']]\n"
     ]
    }
   ],
   "source": [
    "def my_tokenizer(doc, lemmatizer=WordNetLemmatizer(), stopwords=None):\n",
    "    tokens = word_tokenize(doc)\n",
    "    tokens = [t.lower() for t in tokens if t not in string.punctuation]\n",
    "    if lemmatizer:\n",
    "        tokens = [lemmatizer.lemmatize(t) for t in tokens]\n",
    "    if stopwords:\n",
    "        tokens = [t for t in tokens if t not in stopwords]    \n",
    "    return tokens\n",
    "\n",
    "print([my_tokenizer(doc, lemmatizer=None) for doc in corpus])\n",
    "print()\n",
    "print([my_tokenizer(doc) for doc in corpus])\n"
   ]
  },
  {
   "cell_type": "code",
   "execution_count": 17,
   "metadata": {},
   "outputs": [
    {
     "name": "stdout",
     "output_type": "stream",
     "text": [
      "['alarming', 'approaching', 'bee', 'coaster', 'hive', 'rickety', 'roller', 'speed']\n",
      "---\n",
      "{'roller': 6, 'coaster': 3, 'rickety': 5, 'hive': 4, 'bee': 2, 'approaching': 1, 'alarming': 0, 'speed': 7}\n"
     ]
    }
   ],
   "source": [
    "vect = TfidfVectorizer(stop_words='english', tokenizer=my_tokenizer)\n",
    "vector_matrix = vect.fit_transform(corpus)\n",
    "\n",
    "print (vect.get_feature_names())\n",
    "print ('---')\n",
    "print (vect.vocabulary_)"
   ]
  },
  {
   "cell_type": "code",
   "execution_count": 21,
   "metadata": {},
   "outputs": [
    {
     "name": "stdout",
     "output_type": "stream",
     "text": [
      "  (0, 6)\t0.517856116168\n",
      "  (0, 3)\t0.517856116168\n",
      "  (0, 5)\t0.680918560399\n",
      "  (1, 6)\t0.57735026919\n",
      "  (1, 3)\t0.57735026919\n",
      "  (1, 4)\t0.57735026919\n",
      "  (2, 4)\t0.35543246785\n",
      "  (2, 2)\t0.467350981811\n",
      "  (2, 1)\t0.467350981811\n",
      "  (2, 0)\t0.467350981811\n",
      "  (2, 7)\t0.467350981811\n"
     ]
    },
    {
     "data": {
      "text/plain": [
       "<3x8 sparse matrix of type '<class 'numpy.float64'>'\n",
       "\twith 11 stored elements in Compressed Sparse Row format>"
      ]
     },
     "execution_count": 21,
     "metadata": {},
     "output_type": "execute_result"
    }
   ],
   "source": [
    "print(vector_matrix)\n",
    "vector_matrix"
   ]
  },
  {
   "cell_type": "markdown",
   "metadata": {},
   "source": [
    "## TF-IDF matrix:\n"
   ]
  },
  {
   "cell_type": "code",
   "execution_count": 22,
   "metadata": {},
   "outputs": [
    {
     "name": "stdout",
     "output_type": "stream",
     "text": [
      "[[ 0.          0.          0.          0.51785612  0.          0.68091856\n",
      "   0.51785612  0.        ]\n",
      " [ 0.          0.          0.          0.57735027  0.57735027  0.\n",
      "   0.57735027  0.        ]\n",
      " [ 0.46735098  0.46735098  0.46735098  0.          0.35543247  0.          0.\n",
      "   0.46735098]]\n"
     ]
    }
   ],
   "source": [
    "print (vector_matrix.toarray())"
   ]
  },
  {
   "cell_type": "code",
   "execution_count": 24,
   "metadata": {},
   "outputs": [
    {
     "name": "stdout",
     "output_type": "stream",
     "text": [
      "[ 0.          0.          0.          0.57735027  0.57735027  0.\n",
      "  0.57735027  0.        ]\n"
     ]
    }
   ],
   "source": [
    "print(vector_matrix.toarray()[1])"
   ]
  },
  {
   "cell_type": "code",
   "execution_count": 25,
   "metadata": {},
   "outputs": [
    {
     "data": {
      "text/plain": [
       "array([[ 0.        ,  0.40203126,  1.        ],\n",
       "       [ 0.40203126,  0.        ,  0.79479097],\n",
       "       [ 1.        ,  0.79479097,  0.        ]])"
      ]
     },
     "execution_count": 25,
     "metadata": {},
     "output_type": "execute_result"
    }
   ],
   "source": [
    "squareform(pdist(vector_matrix.toarray(), metric='cosine'))"
   ]
  },
  {
   "cell_type": "markdown",
   "metadata": {},
   "source": [
    "## TF-IDF example: a villanelle\n",
    "\n",
    "\"The highly structured villanelle is a nineteen-line poem with two repeating rhymes and two refrains. The form is made up of five tercets followed by a quatrain. The first and third lines of the opening tercet are repeated alternately in the last lines of the succeeding stanzas; then in the final stanza, the refrain serves as the poem’s two concluding lines. Using capitals for the refrains and lowercase letters for the rhymes, the form could be expressed as: A1 b A2 / a b A1 / a b A2 / a b A1 / a b A2 / a b A1 A2.\""
   ]
  },
  {
   "cell_type": "code",
   "execution_count": 26,
   "metadata": {
    "collapsed": true
   },
   "outputs": [],
   "source": [
    "raw_poem = '''Do not go gentle into that good night,\n",
    "Old age should burn and rave at close of day;\n",
    "Rage, rage against the dying of the light.\n",
    "\n",
    "Though wise men at their end know dark is right,\n",
    "Because their words had forked no lightning they\n",
    "Do not go gentle into that good night.\n",
    "\n",
    "Good men, the last wave by, crying how bright\n",
    "Their frail deeds might have danced in a green bay,\n",
    "Rage, rage against the dying of the light.\n",
    "\n",
    "Wild men who caught and sang the sun in flight,\n",
    "And learn, too late, they grieved it on its way,\n",
    "Do not go gentle into that good night.\n",
    "\n",
    "Grave men, near death, who see with blinding sight\n",
    "Blind eyes could blaze like meteors and be gay,\n",
    "Rage, rage against the dying of the light.\n",
    "\n",
    "And you, my father, there on the sad height,\n",
    "Curse, bless, me now with your fierce tears, I pray.\n",
    "Do not go gentle into that good night.\n",
    "Rage, rage against the dying of the light.'''"
   ]
  },
  {
   "cell_type": "markdown",
   "metadata": {},
   "source": [
    "Let's treat each line as a document and the poem as our corpus, then vectorize this baby into a matrix that would make Dylan Thomas proud (sorry).\n"
   ]
  },
  {
   "cell_type": "code",
   "execution_count": 29,
   "metadata": {},
   "outputs": [
    {
     "data": {
      "text/plain": [
       "['Do not go gentle into that good night,',\n",
       " 'Old age should burn and rave at close of day;',\n",
       " 'Rage, rage against the dying of the light.',\n",
       " 'Though wise men at their end know dark is right,',\n",
       " 'Because their words had forked no lightning they',\n",
       " 'Do not go gentle into that good night.',\n",
       " 'Good men, the last wave by, crying how bright',\n",
       " 'Their frail deeds might have danced in a green bay,',\n",
       " 'Rage, rage against the dying of the light.',\n",
       " 'Wild men who caught and sang the sun in flight,',\n",
       " 'And learn, too late, they grieved it on its way,',\n",
       " 'Do not go gentle into that good night.',\n",
       " 'Grave men, near death, who see with blinding sight',\n",
       " 'Blind eyes could blaze like meteors and be gay,',\n",
       " 'Rage, rage against the dying of the light.',\n",
       " 'And you, my father, there on the sad height,',\n",
       " 'Curse, bless, me now with your fierce tears, I pray.',\n",
       " 'Do not go gentle into that good night.',\n",
       " 'Rage, rage against the dying of the light.']"
      ]
     },
     "execution_count": 29,
     "metadata": {},
     "output_type": "execute_result"
    }
   ],
   "source": [
    "lines = raw_poem.split('\\n')\n",
    "lines = [l for l in lines if l] #removing empty lines\n",
    "lines"
   ]
  },
  {
   "cell_type": "code",
   "execution_count": 31,
   "metadata": {},
   "outputs": [
    {
     "data": {
      "text/plain": [
       "['i', 'me', 'my', 'myself', 'we', 'our', 'ours', 'ourselves', 'you', 'your']"
      ]
     },
     "execution_count": 31,
     "metadata": {},
     "output_type": "execute_result"
    }
   ],
   "source": [
    "stops = nltk.corpus.stopwords.words('english')\n",
    "stops[:10]"
   ]
  },
  {
   "cell_type": "code",
   "execution_count": 35,
   "metadata": {},
   "outputs": [
    {
     "name": "stdout",
     "output_type": "stream",
     "text": [
      "['their', 'frail', 'deeds', 'might', 'have', 'danced', 'in', 'a', 'green', 'bay']\n",
      "['their', 'frail', 'deed', 'might', 'have', 'danced', 'in', 'a', 'green', 'bay']\n",
      "['frail', 'deeds', 'might', 'danced', 'green', 'bay']\n",
      "['frail', 'deed', 'might', 'danced', 'green', 'bay']\n"
     ]
    }
   ],
   "source": [
    "print (my_tokenizer(lines[7], lemmatizer=None))\n",
    "print (my_tokenizer(lines[7]))\n",
    "print (my_tokenizer(lines[7], lemmatizer=None, stopwords=set(stops)))\n",
    "print (my_tokenizer(lines[7], stopwords=set(stops)))"
   ]
  },
  {
   "cell_type": "code",
   "execution_count": 59,
   "metadata": {
    "collapsed": true
   },
   "outputs": [],
   "source": [
    "def my_vectorizer(corpus, stopwords=None, lemmatizer=None, kind='count'):\n",
    "    '''\n",
    "    INPUT: list of strings (documents)\n",
    "    OUTPUT: 2D numpy array (vector matrix), \n",
    "            1D numpy array (sorted vocabulary),\n",
    "            dictionary (keys: vocab words, values: indices in sorted vocab)\n",
    "    \n",
    "    '''\n",
    "    #Tokenize documents\n",
    "    tokenized_docs = [my_tokenizer(doc, stopwords=stopwords, lemmatizer=lemmatizer) for doc in corpus]\n",
    "    \n",
    "    #Make an array of unique words in the corpus\n",
    "    vocab_list = set()\n",
    "    for doc in tokenized_docs:\n",
    "        vocab_list.update(doc)\n",
    "    vocab_list = np.array(sorted(list(vocab_list)))\n",
    "    \n",
    "    #Make a dictionary mapping vocab tokens (words) to indices in this list\n",
    "    vocab_dict = dict()\n",
    "    for i, token in enumerate(vocab_list):\n",
    "        vocab_dict[token] = i\n",
    "    \n",
    "    #Vectorize each document!\n",
    "    vector_matrix = np.zeros((len(corpus), len(vocab_list)))\n",
    "    for i, doc in enumerate(tokenized_docs):\n",
    "        counter = Counter(doc)\n",
    "        for token, count in counter.items():\n",
    "            vector_matrix[i,vocab_dict[token]] = count\n",
    "    \n",
    "    # TF-IDF code\n",
    "    if kind == 'tfidf':\n",
    "        # number of documents\n",
    "        N = len(corpus)\n",
    "        \n",
    "        # document frequency for each word in vocab\n",
    "        df = np.array([sum(1 for doc in tokenized_docs if word in doc)\\\n",
    "                       for word in vocab_list])\n",
    "        \n",
    "        # idf\n",
    "        idf_list = np.log(N/df)\n",
    "        \n",
    "        # vectorizin'\n",
    "        vector_matrix = np.zeros((len(corpus), len(vocab_list)))\n",
    "        for i, doc in enumerate(tokenized_docs):\n",
    "            counter = Counter(doc)\n",
    "            n = 1.*len(doc)\n",
    "            for token, count in counter.items():\n",
    "                idf = idf_list[vocab_dict[token]]\n",
    "                vector_matrix[i,vocab_dict[token]] = (count/n)*idf\n",
    "                \n",
    "    return vector_matrix, vocab_list, vocab_dict"
   ]
  },
  {
   "cell_type": "code",
   "execution_count": 43,
   "metadata": {},
   "outputs": [
    {
     "name": "stdout",
     "output_type": "stream",
     "text": [
      "voc_list \n",
      "  ['a' 'against' 'age' 'and' 'at' 'bay' 'be' 'because' 'blaze' 'bless'\n",
      " 'blind' 'blinding' 'bright' 'burn' 'by' 'caught' 'close' 'could' 'crying'\n",
      " 'curse' 'danced' 'dark' 'day' 'death' 'deeds' 'do' 'dying' 'end' 'eyes'\n",
      " 'father' 'fierce' 'flight' 'forked' 'frail' 'gay' 'gentle' 'go' 'good'\n",
      " 'grave' 'green' 'grieved' 'had' 'have' 'height' 'how' 'i' 'in' 'into' 'is'\n",
      " 'it' 'its' 'know' 'last' 'late' 'learn' 'light' 'lightning' 'like' 'me'\n",
      " 'men' 'meteors' 'might' 'my' 'near' 'night' 'no' 'not' 'now' 'of' 'old'\n",
      " 'on' 'pray' 'rage' 'rave' 'right' 'sad' 'sang' 'see' 'should' 'sight'\n",
      " 'sun' 'tears' 'that' 'the' 'their' 'there' 'they' 'though' 'too' 'wave'\n",
      " 'way' 'who' 'wild' 'wise' 'with' 'words' 'you' 'your']\n",
      "voc_dict \n",
      "  {'a': 0, 'against': 1, 'age': 2, 'and': 3, 'at': 4, 'bay': 5, 'be': 6, 'because': 7, 'blaze': 8, 'bless': 9, 'blind': 10, 'blinding': 11, 'bright': 12, 'burn': 13, 'by': 14, 'caught': 15, 'close': 16, 'could': 17, 'crying': 18, 'curse': 19, 'danced': 20, 'dark': 21, 'day': 22, 'death': 23, 'deeds': 24, 'do': 25, 'dying': 26, 'end': 27, 'eyes': 28, 'father': 29, 'fierce': 30, 'flight': 31, 'forked': 32, 'frail': 33, 'gay': 34, 'gentle': 35, 'go': 36, 'good': 37, 'grave': 38, 'green': 39, 'grieved': 40, 'had': 41, 'have': 42, 'height': 43, 'how': 44, 'i': 45, 'in': 46, 'into': 47, 'is': 48, 'it': 49, 'its': 50, 'know': 51, 'last': 52, 'late': 53, 'learn': 54, 'light': 55, 'lightning': 56, 'like': 57, 'me': 58, 'men': 59, 'meteors': 60, 'might': 61, 'my': 62, 'near': 63, 'night': 64, 'no': 65, 'not': 66, 'now': 67, 'of': 68, 'old': 69, 'on': 70, 'pray': 71, 'rage': 72, 'rave': 73, 'right': 74, 'sad': 75, 'sang': 76, 'see': 77, 'should': 78, 'sight': 79, 'sun': 80, 'tears': 81, 'that': 82, 'the': 83, 'their': 84, 'there': 85, 'they': 86, 'though': 87, 'too': 88, 'wave': 89, 'way': 90, 'who': 91, 'wild': 92, 'wise': 93, 'with': 94, 'words': 95, 'you': 96, 'your': 97}\n"
     ]
    }
   ],
   "source": [
    "vec_mat, voc_list, voc_dict = my_vectorizer(lines)\n",
    "print(\"voc_list \\n \", voc_list)\n",
    "print('voc_dict \\n ', voc_dict)"
   ]
  },
  {
   "cell_type": "code",
   "execution_count": 45,
   "metadata": {},
   "outputs": [
    {
     "name": "stdout",
     "output_type": "stream",
     "text": [
      "(19, 98)\n",
      "[[ 0.  0.  0. ...,  0.  0.  0.]\n",
      " [ 0.  0.  1. ...,  0.  0.  0.]\n",
      " [ 0.  1.  0. ...,  0.  0.  0.]\n",
      " ..., \n",
      " [ 0.  0.  0. ...,  0.  0.  1.]\n",
      " [ 0.  0.  0. ...,  0.  0.  0.]\n",
      " [ 0.  1.  0. ...,  0.  0.  0.]]\n"
     ]
    }
   ],
   "source": [
    "print (vec_mat.shape)\n",
    "print (vec_mat)"
   ]
  },
  {
   "cell_type": "code",
   "execution_count": 46,
   "metadata": {},
   "outputs": [
    {
     "name": "stdout",
     "output_type": "stream",
     "text": [
      "Rage, rage against the dying of the light.\n",
      "[ 0.  1.  0.  0.  0.  0.  0.  0.  0.  0.  0.  0.  0.  0.  0.  0.  0.  0.\n",
      "  0.  0.  0.  0.  0.  0.  0.  0.  1.  0.  0.  0.  0.  0.  0.  0.  0.  0.\n",
      "  0.  0.  0.  0.  0.  0.  0.  0.  0.  0.  0.  0.  0.  0.  0.  0.  0.  0.\n",
      "  0.  1.  0.  0.  0.  0.  0.  0.  0.  0.  0.  0.  0.  0.  1.  0.  0.  0.\n",
      "  2.  0.  0.  0.  0.  0.  0.  0.  0.  0.  0.  2.  0.  0.  0.  0.  0.  0.\n",
      "  0.  0.  0.  0.  0.  0.  0.  0.]\n"
     ]
    }
   ],
   "source": [
    "print (lines[2])\n",
    "print (vec_mat[2])"
   ]
  },
  {
   "cell_type": "code",
   "execution_count": 54,
   "metadata": {},
   "outputs": [
    {
     "name": "stdout",
     "output_type": "stream",
     "text": [
      "['against', 'age', 'and', 'at', 'bay', 'be', 'because', 'blaze', 'bless', 'blind'] \n",
      "\n",
      "{'do': 24, 'not': 64, 'go': 35, 'gentle': 34, 'into': 45, 'that': 80, 'good': 36, 'night': 62, 'old': 67, 'age': 1, 'should': 76, 'burn': 12, 'and': 2, 'rave': 71, 'at': 3, 'close': 15, 'of': 66, 'day': 21, 'rage': 70, 'against': 0, 'the': 81, 'dying': 25, 'light': 53, 'though': 85, 'wise': 91, 'men': 57, 'their': 82, 'end': 26, 'know': 49, 'dark': 20, 'is': 46, 'right': 72, 'because': 6, 'words': 93, 'had': 40, 'forked': 31, 'no': 63, 'lightning': 54, 'they': 84, 'last': 50, 'wave': 87, 'by': 13, 'crying': 17, 'how': 43, 'bright': 11, 'frail': 32, 'deeds': 23, 'might': 59, 'have': 41, 'danced': 19, 'in': 44, 'green': 38, 'bay': 4, 'wild': 90, 'who': 89, 'caught': 14, 'sang': 74, 'sun': 78, 'flight': 30, 'learn': 52, 'too': 86, 'late': 51, 'grieved': 39, 'it': 47, 'on': 68, 'its': 48, 'way': 88, 'grave': 37, 'near': 61, 'death': 22, 'see': 75, 'with': 92, 'blinding': 10, 'sight': 77, 'blind': 9, 'eyes': 27, 'could': 16, 'blaze': 7, 'like': 55, 'meteors': 58, 'be': 5, 'gay': 33, 'you': 94, 'my': 60, 'father': 28, 'there': 83, 'sad': 73, 'height': 42, 'curse': 18, 'bless': 8, 'me': 56, 'now': 65, 'your': 95, 'fierce': 29, 'tears': 79, 'pray': 69}\n"
     ]
    }
   ],
   "source": [
    "sk_vectorizer = CountVectorizer()\n",
    "sk_vec_mat = sk_vectorizer.fit_transform(lines).toarray()\n",
    "print(sk_vectorizer.get_feature_names()[:10], '\\n')\n",
    "print(sk_vectorizer.vocabulary_)"
   ]
  },
  {
   "cell_type": "code",
   "execution_count": 55,
   "metadata": {},
   "outputs": [
    {
     "data": {
      "text/plain": [
       "array([1, 0, 0, 0, 0, 0, 0, 0, 0, 0, 0, 0, 0, 0, 0, 0, 0, 0, 0, 0, 0, 0, 0,\n",
       "       0, 0, 1, 0, 0, 0, 0, 0, 0, 0, 0, 0, 0, 0, 0, 0, 0, 0, 0, 0, 0, 0, 0,\n",
       "       0, 0, 0, 0, 0, 0, 0, 1, 0, 0, 0, 0, 0, 0, 0, 0, 0, 0, 0, 0, 1, 0, 0,\n",
       "       0, 2, 0, 0, 0, 0, 0, 0, 0, 0, 0, 0, 2, 0, 0, 0, 0, 0, 0, 0, 0, 0, 0,\n",
       "       0, 0, 0, 0], dtype=int64)"
      ]
     },
     "execution_count": 55,
     "metadata": {},
     "output_type": "execute_result"
    }
   ],
   "source": [
    "sk_vec_mat[2]"
   ]
  },
  {
   "cell_type": "code",
   "execution_count": 56,
   "metadata": {},
   "outputs": [
    {
     "data": {
      "text/plain": [
       "(19, 19)"
      ]
     },
     "execution_count": 56,
     "metadata": {},
     "output_type": "execute_result"
    }
   ],
   "source": [
    "pairwise_dist = squareform(pdist(vec_mat, metric='cosine'))\n",
    "pairwise_dist.shape"
   ]
  },
  {
   "cell_type": "code",
   "execution_count": 57,
   "metadata": {},
   "outputs": [
    {
     "name": "stdout",
     "output_type": "stream",
     "text": [
      "Do not go gentle into that good night,\n",
      "Do not go gentle into that good night.\n",
      "Do not go gentle into that good night.\n",
      "Do not go gentle into that good night.\n",
      "Good men, the last wave by, crying how bright\n",
      "-----\n",
      "Old age should burn and rave at close of day;\n",
      "And you, my father, there on the sad height,\n",
      "Blind eyes could blaze like meteors and be gay,\n",
      "Wild men who caught and sang the sun in flight,\n",
      "Though wise men at their end know dark is right,\n",
      "-----\n",
      "Rage, rage against the dying of the light.\n",
      "Rage, rage against the dying of the light.\n",
      "Rage, rage against the dying of the light.\n",
      "Rage, rage against the dying of the light.\n",
      "And you, my father, there on the sad height,\n",
      "-----\n",
      "Though wise men at their end know dark is right,\n",
      "Because their words had forked no lightning they\n",
      "Good men, the last wave by, crying how bright\n",
      "Grave men, near death, who see with blinding sight\n",
      "Wild men who caught and sang the sun in flight,\n",
      "-----\n",
      "Because their words had forked no lightning they\n",
      "Though wise men at their end know dark is right,\n",
      "Their frail deeds might have danced in a green bay,\n",
      "And learn, too late, they grieved it on its way,\n",
      "Do not go gentle into that good night,\n",
      "-----\n"
     ]
    }
   ],
   "source": [
    "for i in range(len(lines[:5])):\n",
    "    for ind in pairwise_dist[i].argsort()[:5]:\n",
    "        print (lines[ind])\n",
    "    print ('-----')"
   ]
  },
  {
   "cell_type": "code",
   "execution_count": 60,
   "metadata": {},
   "outputs": [
    {
     "data": {
      "text/plain": [
       "array([ 0.        ,  0.19476808,  0.        ,  0.        ,  0.        ,\n",
       "        0.        ,  0.        ,  0.        ,  0.        ,  0.        ,\n",
       "        0.        ,  0.        ,  0.        ,  0.        ,  0.        ,\n",
       "        0.        ,  0.        ,  0.        ,  0.        ,  0.        ,\n",
       "        0.        ,  0.        ,  0.        ,  0.        ,  0.        ,\n",
       "        0.        ,  0.19476808,  0.        ,  0.        ,  0.        ,\n",
       "        0.        ,  0.        ,  0.        ,  0.        ,  0.        ,\n",
       "        0.        ,  0.        ,  0.        ,  0.        ,  0.        ,\n",
       "        0.        ,  0.        ,  0.        ,  0.        ,  0.        ,\n",
       "        0.        ,  0.        ,  0.        ,  0.        ,  0.        ,\n",
       "        0.        ,  0.        ,  0.        ,  0.        ,  0.        ,\n",
       "        0.19476808,  0.        ,  0.        ,  0.        ,  0.        ,\n",
       "        0.        ,  0.        ,  0.        ,  0.        ,  0.        ,\n",
       "        0.        ,  0.        ,  0.        ,  0.16687513,  0.        ,\n",
       "        0.        ,  0.        ,  0.38953615,  0.        ,  0.        ,\n",
       "        0.        ,  0.        ,  0.        ,  0.        ,  0.        ,\n",
       "        0.        ,  0.        ,  0.        ,  0.24963221,  0.        ,\n",
       "        0.        ,  0.        ,  0.        ,  0.        ,  0.        ,\n",
       "        0.        ,  0.        ,  0.        ,  0.        ,  0.        ,\n",
       "        0.        ,  0.        ,  0.        ])"
      ]
     },
     "execution_count": 60,
     "metadata": {},
     "output_type": "execute_result"
    }
   ],
   "source": [
    "tf_vec_mat, tf_voc_list, tf_voc_dict = my_vectorizer(lines, kind='tfidf')\n",
    "tf_vec_mat[2]"
   ]
  },
  {
   "cell_type": "code",
   "execution_count": 61,
   "metadata": {},
   "outputs": [
    {
     "data": {
      "text/plain": [
       "array([ 0.30960308,  0.        ,  0.        ,  0.        ,  0.        ,\n",
       "        0.        ,  0.        ,  0.        ,  0.        ,  0.        ,\n",
       "        0.        ,  0.        ,  0.        ,  0.        ,  0.        ,\n",
       "        0.        ,  0.        ,  0.        ,  0.        ,  0.        ,\n",
       "        0.        ,  0.        ,  0.        ,  0.        ,  0.        ,\n",
       "        0.30960308,  0.        ,  0.        ,  0.        ,  0.        ,\n",
       "        0.        ,  0.        ,  0.        ,  0.        ,  0.        ,\n",
       "        0.        ,  0.        ,  0.        ,  0.        ,  0.        ,\n",
       "        0.        ,  0.        ,  0.        ,  0.        ,  0.        ,\n",
       "        0.        ,  0.        ,  0.        ,  0.        ,  0.        ,\n",
       "        0.        ,  0.        ,  0.        ,  0.30960308,  0.        ,\n",
       "        0.        ,  0.        ,  0.        ,  0.        ,  0.        ,\n",
       "        0.        ,  0.        ,  0.        ,  0.        ,  0.        ,\n",
       "        0.        ,  0.28594828,  0.        ,  0.        ,  0.        ,\n",
       "        0.61920616,  0.        ,  0.        ,  0.        ,  0.        ,\n",
       "        0.        ,  0.        ,  0.        ,  0.        ,  0.        ,\n",
       "        0.        ,  0.49724755,  0.        ,  0.        ,  0.        ,\n",
       "        0.        ,  0.        ,  0.        ,  0.        ,  0.        ,\n",
       "        0.        ,  0.        ,  0.        ,  0.        ,  0.        ,  0.        ])"
      ]
     },
     "execution_count": 61,
     "metadata": {},
     "output_type": "execute_result"
    }
   ],
   "source": [
    "sk_tf_vec = TfidfVectorizer()\n",
    "sk_tf_mat = sk_tf_vec.fit_transform(lines).toarray()\n",
    "sk_tf_mat[2]"
   ]
  },
  {
   "cell_type": "code",
   "execution_count": 62,
   "metadata": {},
   "outputs": [
    {
     "data": {
      "text/plain": [
       "0.99999999999999978"
      ]
     },
     "execution_count": 62,
     "metadata": {},
     "output_type": "execute_result"
    }
   ],
   "source": [
    "sum(sk_tf_mat[2]**2)"
   ]
  },
  {
   "cell_type": "code",
   "execution_count": 63,
   "metadata": {},
   "outputs": [
    {
     "data": {
      "text/plain": [
       "(19, 19)"
      ]
     },
     "execution_count": 63,
     "metadata": {},
     "output_type": "execute_result"
    }
   ],
   "source": [
    "pairwise_dist_tf = squareform(pdist(tf_vec_mat, metric='cosine'))\n",
    "pairwise_dist_tf.shape"
   ]
  },
  {
   "cell_type": "code",
   "execution_count": 65,
   "metadata": {},
   "outputs": [
    {
     "name": "stdout",
     "output_type": "stream",
     "text": [
      "Do not go gentle into that good night,\n",
      "Do not go gentle into that good night.\n",
      "Do not go gentle into that good night.\n",
      "Do not go gentle into that good night.\n",
      "Good men, the last wave by, crying how bright\n",
      "-----\n",
      "Old age should burn and rave at close of day;\n",
      "Though wise men at their end know dark is right,\n",
      "Rage, rage against the dying of the light.\n",
      "Rage, rage against the dying of the light.\n",
      "Rage, rage against the dying of the light.\n",
      "-----\n",
      "Rage, rage against the dying of the light.\n",
      "Rage, rage against the dying of the light.\n",
      "Rage, rage against the dying of the light.\n",
      "Rage, rage against the dying of the light.\n",
      "Good men, the last wave by, crying how bright\n",
      "-----\n",
      "Though wise men at their end know dark is right,\n",
      "Old age should burn and rave at close of day;\n",
      "Because their words had forked no lightning they\n",
      "Their frail deeds might have danced in a green bay,\n",
      "Good men, the last wave by, crying how bright\n",
      "-----\n",
      "Because their words had forked no lightning they\n",
      "And learn, too late, they grieved it on its way,\n",
      "Though wise men at their end know dark is right,\n",
      "Their frail deeds might have danced in a green bay,\n",
      "Do not go gentle into that good night,\n",
      "-----\n"
     ]
    }
   ],
   "source": [
    "# tfidf vector similarity\n",
    "for i in range(len(lines[:5])):\n",
    "    for ind in pairwise_dist_tf[i].argsort()[:5]:\n",
    "        print (lines[ind])\n",
    "    print ('-----')"
   ]
  },
  {
   "cell_type": "code",
   "execution_count": 66,
   "metadata": {},
   "outputs": [
    {
     "name": "stdout",
     "output_type": "stream",
     "text": [
      "Do not go gentle into that good night,\n",
      "Do not go gentle into that good night.\n",
      "Do not go gentle into that good night.\n",
      "Do not go gentle into that good night.\n",
      "Good men, the last wave by, crying how bright\n",
      "-----\n",
      "Old age should burn and rave at close of day;\n",
      "And you, my father, there on the sad height,\n",
      "Blind eyes could blaze like meteors and be gay,\n",
      "Wild men who caught and sang the sun in flight,\n",
      "Though wise men at their end know dark is right,\n",
      "-----\n",
      "Rage, rage against the dying of the light.\n",
      "Rage, rage against the dying of the light.\n",
      "Rage, rage against the dying of the light.\n",
      "Rage, rage against the dying of the light.\n",
      "And you, my father, there on the sad height,\n",
      "-----\n",
      "Though wise men at their end know dark is right,\n",
      "Because their words had forked no lightning they\n",
      "Good men, the last wave by, crying how bright\n",
      "Grave men, near death, who see with blinding sight\n",
      "Wild men who caught and sang the sun in flight,\n",
      "-----\n",
      "Because their words had forked no lightning they\n",
      "Though wise men at their end know dark is right,\n",
      "Their frail deeds might have danced in a green bay,\n",
      "And learn, too late, they grieved it on its way,\n",
      "Do not go gentle into that good night,\n",
      "-----\n"
     ]
    }
   ],
   "source": [
    "# count vector similarity\n",
    "for i in range(len(lines[:5])):\n",
    "    for ind in pairwise_dist[i].argsort()[:5]:\n",
    "        print (lines[ind])\n",
    "    print ('-----')"
   ]
  },
  {
   "cell_type": "code",
   "execution_count": null,
   "metadata": {
    "collapsed": true
   },
   "outputs": [],
   "source": []
  }
 ],
 "metadata": {
  "kernelspec": {
   "display_name": "Python 3",
   "language": "python",
   "name": "python3"
  },
  "language_info": {
   "codemirror_mode": {
    "name": "ipython",
    "version": 3
   },
   "file_extension": ".py",
   "mimetype": "text/x-python",
   "name": "python",
   "nbconvert_exporter": "python",
   "pygments_lexer": "ipython3",
   "version": "3.6.3"
  }
 },
 "nbformat": 4,
 "nbformat_minor": 2
}
