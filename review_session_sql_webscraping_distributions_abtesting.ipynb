{
 "cells": [
  {
   "cell_type": "markdown",
   "metadata": {},
   "source": [
    "## 00. Study previous assessments"
   ]
  },
  {
   "cell_type": "markdown",
   "metadata": {},
   "source": [
    "## 0. Hey! Remember to use the tests!!!!\n",
    "\n",
    "When you clone the assessment repo and you are in the final-assessment-files directory, make sure unittests works by entering make test in your terminal."
   ]
  },
  {
   "cell_type": "markdown",
   "metadata": {},
   "source": [
    "## 1. SQL\n",
    "\n",
    "### 1a. readychef\n",
    "\n",
    "If you still have the readychef database, you can access it by entering psql readychef in your terminal.\n",
    "\n",
    "Write queries to find the following:\n",
    "\n",
    "1. total meals bought by each user (including users who bought zero meals)\n",
    "   \n",
    "   \n",
    "   this query gets total meals for every user but only for users who bought at least 1 meal\n",
    "\n",
    "    SELECT userid, COUNT(*) as ct \n",
    "        FROM events \n",
    "        WHERE event='bought' \n",
    "        GROUP BY userid\n",
    "\n",
    "    to get the 0-meal users, we LEFT JOIN the user column from \"users\" with the previous table, then use COALESCE to convert the NULL values to 0\n",
    "\n",
    "    SELECT u.userid, COALESCE(c.ct,0) AS total_meals_bought FROM users AS u\n",
    "    LEFT JOIN (\n",
    "    SELECT userid, COUNT(*) as ct \n",
    "    FROM events \n",
    "    WHERE event='bought' \n",
    "    GROUP BY userid ) as c \n",
    "    ON u.userid = c.userid\n",
    "    ORDER BY u.userid\n",
    "    LIMIT 20;\n",
    "    \n",
    "\n",
    "2. Total money spent by each user\n",
    "    \n",
    "    SELECT u.userid, COALESCE(s.spent,0) AS total_spent FROM users AS u\n",
    "    LEFT JOIN (\n",
    "            SELECT userid, SUM(m.price) as spent \n",
    "            FROM events AS e\n",
    "            JOIN meals AS m\n",
    "             ON e.meal_id = m.meal_id\n",
    "            WHERE event='bought' \n",
    "            GROUP BY userid ) as s\n",
    "            ON u.userid = s.userid\n",
    "    ORDER BY u.userid\n",
    "    LIMIT 20;\n",
    "\n",
    "3. Total visits from each user\n",
    "\n",
    "    SELECT u.userid, COALESCE(v.ct,0) AS total_visits FROM users AS u\n",
    "    LEFT JOIN (\n",
    "            SELECT userid, COUNT(*) as ct \n",
    "            FROM visits \n",
    "            GROUP BY userid ) as v \n",
    "            ON u.userid = v.userid\n",
    "    ORDER BY u.userid\n",
    "    LIMIT 20;\n",
    "    \n",
    "4. Average visits per month from each user\n",
    "\n",
    "\n",
    "WITH user_life AS\n",
    "(\n",
    "    SELECT userid,\n",
    "      ((DATE_PART('year', a.max_dt) - DATE_PART('year', a.min_dt)) * 12 +\n",
    "      (DATE_PART('month', a.max_dt) - DATE_PART('month', a.min_dt)) + 1) AS user_months\n",
    "     FROM\n",
    "        (\n",
    "        SELECT userid, MIN(dt) as min_dt, MAX(dt) AS max_dt \n",
    "        FROM visits GROUP BY userid\n",
    "        ) AS a\n",
    "),\n",
    "total AS\n",
    "(\n",
    "    SELECT u.userid, COALESCE(v.ct,0) AS total_visits FROM users AS u\n",
    "    LEFT JOIN (\n",
    "            SELECT userid, COUNT(*) as ct \n",
    "            FROM visits \n",
    "            GROUP BY userid ) as v \n",
    "         ON u.userid = v.userid\n",
    ")\n",
    "SELECT uu.userid, ROUND(tt.total_visits/uu.user_months :: numeric, 2)\n",
    "FROM user_life AS uu\n",
    "JOIN total AS tt\n",
    "ON uu.userid = tt.userid\n",
    "LIMIT 10;\n",
    "\n",
    "\n",
    "select userid, date_part('month', dt) from visits group by userid, date_part('month', dt) limit 10;"
   ]
  },
  {
   "cell_type": "markdown",
   "metadata": {},
   "source": [
    "### 1b. another table\n",
    "\n",
    "i) Return the city with the highest population growth. (Highest net of people who currently live there minus people who used to live there)\n",
    "CREATE TABLE inward_migration AS\n",
    "  (SELECT current_city, COUNT(*) AS net_in\n",
    "  FROM customers\n",
    "  GROUP BY current_city)\n",
    "\n",
    "  CREATE TABLE outward_migration AS\n",
    "  (SELECT hometown, COUNT(*) AS net_out\n",
    "  FROM customers\n",
    "  GROUP BY hometown)\n",
    "\n",
    "  SELECT a.current_city AS city,\n",
    "    a.net_in - b.net_out AS net_immigration\n",
    "  FROM inward_migration a\n",
    "  JOIN outward_migration b\n",
    "  ON a.current_city = b.hometown\n",
    "  ORDER BY net_immigration DESC\n",
    "  LIMIT 1\n",
    "  \n",
    "ii) Return pairs of \"friends\" (can be two columns or a tuple) that have both the same hometown and current city. Remove duplicates!\n",
    "SELECT a.cust_id AS friend1, b.cust_id AS friend2\n",
    "  FROM customers a\n",
    "  JOIN customers b\n",
    "  ON a.hometown = b.hometown\n",
    "  AND a.current_city = b.current_city\n",
    "  WHERE a.cust_id < b.cust_id"
   ]
  },
  {
   "cell_type": "markdown",
   "metadata": {},
   "source": [
    "\n",
    "## 2. Web scraping"
   ]
  },
  {
   "cell_type": "code",
   "execution_count": 1,
   "metadata": {
    "collapsed": true
   },
   "outputs": [],
   "source": [
    "import requests\n",
    "from bs4 import BeautifulSoup"
   ]
  },
  {
   "cell_type": "code",
   "execution_count": 2,
   "metadata": {
    "collapsed": true
   },
   "outputs": [],
   "source": [
    "query = 'data scientist'"
   ]
  },
  {
   "cell_type": "code",
   "execution_count": 3,
   "metadata": {
    "collapsed": true
   },
   "outputs": [],
   "source": [
    "url = \"http://www.indeed.com/jobs?q={}\".format(query.replace(' ', '+'))\n",
    "html = requests.get(url).text\n",
    "soup = BeautifulSoup(html, 'html.parser')"
   ]
  },
  {
   "cell_type": "code",
   "execution_count": 4,
   "metadata": {},
   "outputs": [
    {
     "data": {
      "text/plain": [
       "'http://www.indeed.com/jobs?q=data+scientist'"
      ]
     },
     "execution_count": 4,
     "metadata": {},
     "output_type": "execute_result"
    }
   ],
   "source": [
    "url\n"
   ]
  },
  {
   "cell_type": "code",
   "execution_count": 5,
   "metadata": {},
   "outputs": [
    {
     "data": {
      "text/plain": [
       "'\\n        Page 1 of 23,570 jobs'"
      ]
     },
     "execution_count": 5,
     "metadata": {},
     "output_type": "execute_result"
    }
   ],
   "source": [
    "# find the number of results\n",
    "# You can search by tag, attribute, or both\n",
    "\n",
    "soup.find('div', id='searchCount').text"
   ]
  },
  {
   "cell_type": "code",
   "execution_count": 6,
   "metadata": {},
   "outputs": [
    {
     "data": {
      "text/plain": [
       "<div id=\"searchCount\">\n",
       "        Page 1 of 23,570 jobs</div>"
      ]
     },
     "execution_count": 6,
     "metadata": {},
     "output_type": "execute_result"
    }
   ],
   "source": [
    "soup.find('div', id='searchCount')"
   ]
  },
  {
   "cell_type": "code",
   "execution_count": 7,
   "metadata": {},
   "outputs": [
    {
     "data": {
      "text/plain": [
       "<div id=\"searchCount\">\n",
       "        Page 1 of 23,570 jobs</div>"
      ]
     },
     "execution_count": 7,
     "metadata": {},
     "output_type": "execute_result"
    }
   ],
   "source": [
    "soup.find(id='searchCount')"
   ]
  },
  {
   "cell_type": "code",
   "execution_count": 8,
   "metadata": {},
   "outputs": [
    {
     "data": {
      "text/plain": [
       "'\\n        Page 1 of 23,570 jobs'"
      ]
     },
     "execution_count": 8,
     "metadata": {},
     "output_type": "execute_result"
    }
   ],
   "source": [
    "soup.find(id='searchCount').text"
   ]
  },
  {
   "cell_type": "code",
   "execution_count": 9,
   "metadata": {},
   "outputs": [
    {
     "data": {
      "text/plain": [
       "['Page', '1', 'of', '23,570', 'jobs']"
      ]
     },
     "execution_count": 9,
     "metadata": {},
     "output_type": "execute_result"
    }
   ],
   "source": [
    "soup.find(id='searchCount').text.split()"
   ]
  },
  {
   "cell_type": "code",
   "execution_count": 10,
   "metadata": {},
   "outputs": [
    {
     "data": {
      "text/plain": [
       "'jobs'"
      ]
     },
     "execution_count": 10,
     "metadata": {},
     "output_type": "execute_result"
    }
   ],
   "source": [
    "soup.find(id='searchCount').text.split()[-1]"
   ]
  },
  {
   "cell_type": "code",
   "execution_count": 16,
   "metadata": {
    "collapsed": true
   },
   "outputs": [],
   "source": [
    "import requests\n",
    "from bs4 import BeautifulSoup\n",
    "\n",
    "def number_of_jobs(query):\n",
    "    '''\n",
    "    INPUT: string\n",
    "    OUTPUT: int\n",
    "\n",
    "    Return the number of jobs on the indeed.com for the search query.\n",
    "    '''\n",
    "\n",
    "    url = \"http://www.indeed.com/jobs?q={}\".format(query.replace(' ', '+'))\n",
    "    html = requests.get(url).text\n",
    "    soup = BeautifulSoup(html, 'html.parser')\n",
    "    search_count = soup.find('div', id='searchCount')\n",
    "    return int(search_count.text.split()[-2].replace(',', ''))"
   ]
  },
  {
   "cell_type": "code",
   "execution_count": 17,
   "metadata": {},
   "outputs": [
    {
     "data": {
      "text/plain": [
       "23567"
      ]
     },
     "execution_count": 17,
     "metadata": {},
     "output_type": "execute_result"
    }
   ],
   "source": [
    "number_of_jobs('data scientist')"
   ]
  },
  {
   "cell_type": "code",
   "execution_count": 18,
   "metadata": {},
   "outputs": [
    {
     "data": {
      "text/plain": [
       "[<div class=\"row result\" data-advn=\"5934651801106676\" data-jk=\"7dee0a3754255bee\" id=\"pj_7dee0a3754255bee\">\n",
       " <a class=\"jobtitle turnstileLink\" data-tn-element=\"jobTitle\" href=\"/pagead/clk?mo=r&amp;ad=-6NYlbfkN0DV4VMfmBJI2fADxaSmO4APG19pQrP8HAfsIrAnoAIqcE6KtGnsd-lg0hs2Usoksi-GyvPGYRgLzK4Qz5WOJcfBYXKdSJ_nir_NJlpEGdOAwaMLD2_H1rNmYJSfFU0_yJ_SxwbJrSmTlbhq7bCJcp8UzxwpUZ8mCu4BZeiQhSsaG1Y9zatOv_HQQ-MdzzNskKOgZKWeq3E3ROv2yU5UYToqhqOGBlP6qNfx1KE1Es-ymg5xALZErNm2-kQR5ZMFwlbqbLqi_vlRJjzYOcV7YezttM5JBNK3A6TnTMvGy6FrXp-1he-g4LpPSB-DecAy89i5Sf6vv_R1gGtA2l4SFzDZFvcdHjt330p_Jx6xLjl-pjhTOps_yYgn56fwOVYyO4NdZM4wuy1rV3cZ_BftnUqd4AHrasHbsLo9-9kZb_WTbvFCPmKuSNUiv5p8ZZlfK83ojr5uSV57MwENHk-VJBP3hpZJZxcEDQBUaa-8DY6fLIxHxcvkASHxvbrH9cAdqSr7P7hi5pgEISCM4AMPPnNOePUJ2MvaMaVE0im-kpKOnJKM22eKpKWnyO1rRvfGvdq7OwmrS-Kl64g-dhKz0qq61Xadv77UjAU=&amp;p=1&amp;sk=&amp;fvj=1\" id=\"sja1\" onclick=\"setRefineByCookie([]); sjoc('sja1',0); convCtr('SJ')\" onmousedown=\"sjomd('sja1'); clk('sja1');\" rel=\"noopener nofollow\" target=\"_blank\" title=\"Data Scientist\"><b>Data</b> <b>Scientist</b></a>\n",
       " <br/>\n",
       " <div class=\"sjcl\">\n",
       " <span class=\"company\">\n",
       "     National Geospatial-Intelligence Agency</span>\n",
       " \n",
       "  - <span class=\"location\">Springfield, VA</span>\n",
       " </div>\n",
       " <div class=\"\">\n",
       " <table border=\"0\" cellpadding=\"0\" cellspacing=\"0\"><tr><td class=\"snip\">\n",
       " <span class=\"summary\">\n",
       "                             JavaScript, Python, Cloud Services Design, Algorithm Development, <b>Data</b> Visualization, Big <b>Data</b> /<b>Data</b> Modeling, Machine Vision &amp; Deep Learning, Optimization....</span>\n",
       " </td></tr></table>\n",
       " </div>\n",
       " <div class=\"sjCapt\">\n",
       " <div class=\"result-link-bar-container\">\n",
       " <div class=\"result-link-bar\"><span class=\" sponsoredGray \">Sponsored</span> - <span class=\"tt_set\" id=\"tt_set_10\"><a class=\"sl resultLink save-job-link \" href=\"#\" id=\"sj_7dee0a3754255bee\" onclick=\"changeJobState('7dee0a3754255bee', 'save', 'linkbar', true, ''); return false;\" title=\"Save this job to my.indeed\">save job</a></span><div class=\"edit_note_content\" id=\"editsaved2_7dee0a3754255bee\" style=\"display:none;\"></div><script>if (!window['sj_result_7dee0a3754255bee']) {window['sj_result_7dee0a3754255bee'] = {};}window['sj_result_7dee0a3754255bee']['showSource'] = false; window['sj_result_7dee0a3754255bee']['source'] = \"Indeed\"; window['sj_result_7dee0a3754255bee']['loggedIn'] = false; window['sj_result_7dee0a3754255bee']['showMyJobsLinks'] = false;window['sj_result_7dee0a3754255bee']['undoAction'] = \"unsave\";window['sj_result_7dee0a3754255bee']['jobKey'] = \"7dee0a3754255bee\"; window['sj_result_7dee0a3754255bee']['myIndeedAvailable'] = true; window['sj_result_7dee0a3754255bee']['showMoreActionsLink'] = false; window['sj_result_7dee0a3754255bee']['resultNumber'] = 10; window['sj_result_7dee0a3754255bee']['jobStateChangedToSaved'] = false; window['sj_result_7dee0a3754255bee']['searchState'] = \"q=data scientist&amp;\"; window['sj_result_7dee0a3754255bee']['basicPermaLink'] = \"http://www.indeed.com\"; window['sj_result_7dee0a3754255bee']['saveJobFailed'] = false; window['sj_result_7dee0a3754255bee']['removeJobFailed'] = false; window['sj_result_7dee0a3754255bee']['requestPending'] = false; window['sj_result_7dee0a3754255bee']['notesEnabled'] = false; window['sj_result_7dee0a3754255bee']['currentPage'] = \"serp\"; window['sj_result_7dee0a3754255bee']['sponsored'] = true;window['sj_result_7dee0a3754255bee']['showSponsor'] = true;window['sj_result_7dee0a3754255bee']['reportJobButtonEnabled'] = false; window['sj_result_7dee0a3754255bee']['showMyJobsHired'] = false; window['sj_result_7dee0a3754255bee']['showSaveForSponsored'] = true; window['sj_result_7dee0a3754255bee']['showJobAge'] = true;</script></div></div>\n",
       " <div class=\"tab-container\">\n",
       " <div class=\"sign-in-container result-tab\"></div>\n",
       " <div class=\"tellafriend-container result-tab email_job_content\"></div>\n",
       " </div>\n",
       " </div>\n",
       " </div>,\n",
       " <div class=\"row result\" data-advn=\"3070020089203861\" data-jk=\"73742909c62aea4e\" id=\"pj_73742909c62aea4e\">\n",
       " <a class=\"jobtitle turnstileLink\" data-tn-element=\"jobTitle\" href=\"/pagead/clk?mo=r&amp;ad=-6NYlbfkN0B-UuMsP3mBWd3viLiPXhxwSz1MK4wT1ZQfxZO5nDPBzBgvNgeDGgN7FcRDQNwRJOTMPv_AgMF8njrbJdkNQ_l2YXxoOHfd_ag9XXqT1Pu1Rj840rKByoMA5S3r6MSDN8obHI1lACnOqE9IpA4YSrWz9y5VRtAUFYKqd6rePRmS_oRZTqmcQWBMxhBbeYJBJDh7S5KC4N34_-EKCj5JSXiiqR2CaQeTvAv10ho0OG3DP32THvYYuakRwZ4OaKK8SNmGqWDuqWk0SYAEdYJ31ZiocP9PTunXt3iIrB4m4_l6FY_HcbLMjDchUInADw66cNZqqiqFU-FRuvT4NWtXM1B8Bmco9ZQyixWyq5XPP1ZUKNfp6G7yHbu7b5KRQ5XvIlR7mFAsQYuqhdFjgk4mljkrhcV2eUR4vC4n3FLFdzhFdVUOVlJByXFgmmpadb-azyWo08eV9kxjmHBYPAwu_aHjAX4nNxUv37Gy-8Y46n_sP248X7IailKD2XQNQAmhXgGC0LH8lJTQ0qqdNDqUhkE4reAcGENXlbbj6I6np1OnSzUYalRGnResGoIM4spBSHW_yd_uL04HvP9m9daQ4EFQL0YrBFwz3zc=&amp;p=2&amp;sk=&amp;fvj=0\" id=\"sja2\" onclick=\"setRefineByCookie([]); sjoc('sja2',0); convCtr('SJ')\" onmousedown=\"sjomd('sja2'); clk('sja2');\" rel=\"noopener nofollow\" target=\"_blank\" title=\"Junior Data Scientist\">Junior <b>Data</b> <b>Scientist</b></a>\n",
       " <br/>\n",
       " <div class=\"sjcl\">\n",
       " <span class=\"company\">\n",
       " <a class=\"turnstileLink\" data-tn-element=\"companyName\" href=\"/cmp/Realogy\" onmousedown=\"this.href = appendParamsOnce(this.href, 'from=SERP&amp;campaignid=serp-linkcompanyname&amp;fromjk=73742909c62aea4e&amp;jcid=03a63640340fa2a6')\" rel=\"noopener\" target=\"_blank\">\n",
       "     Realogy Corporate</a></span>\n",
       " \n",
       "  - <a class=\"ratingsLabel\" data-tn-element=\"reviewStars\" data-tn-variant=\"cmplinktst2\" href=\"/cmp/Realogy/reviews\" onmousedown=\"this.href = appendParamsOnce(this.href, '?campaignid=cmplinktst2&amp;from=SERP&amp;jt=Junior+Data+Scientist&amp;fromjk=73742909c62aea4e&amp;jcid=03a63640340fa2a6');\" rel=\"noopener\" target=\"_blank\" title=\"Realogy Corporate reviews\">\n",
       " <span class=\"ratings\"><span class=\"rating\" style=\"width:42.6px\"><!-- --></span></span>\n",
       " <span class=\"slNoUnderline\">68 reviews</span></a>\n",
       "  - <span class=\"location\">Emeryville, CA</span>\n",
       " </div>\n",
       " <div class=\"\">\n",
       " <table border=\"0\" cellpadding=\"0\" cellspacing=\"0\"><tr><td class=\"snip\">\n",
       " <span class=\"summary\">\n",
       "                             Junior <b>Data</b> <b>Scientist</b>. You will be designing and implementing processes around machine learning, business intelligence, and predictive analytics that meet the...</span>\n",
       " </td></tr></table>\n",
       " </div>\n",
       " <div class=\"sjCapt\">\n",
       " <div class=\"result-link-bar-container\">\n",
       " <div class=\"result-link-bar\"><span class=\" sponsoredGray \">Sponsored by <b>Realogy</b></span> - <span class=\"tt_set\" id=\"tt_set_11\"><a class=\"sl resultLink save-job-link \" href=\"#\" id=\"sj_73742909c62aea4e\" onclick=\"changeJobState('73742909c62aea4e', 'save', 'linkbar', true, ''); return false;\" title=\"Save this job to my.indeed\">save job</a></span><div class=\"edit_note_content\" id=\"editsaved2_73742909c62aea4e\" style=\"display:none;\"></div><script>if (!window['sj_result_73742909c62aea4e']) {window['sj_result_73742909c62aea4e'] = {};}window['sj_result_73742909c62aea4e']['showSource'] = false; window['sj_result_73742909c62aea4e']['source'] = \"Realogy\"; window['sj_result_73742909c62aea4e']['loggedIn'] = false; window['sj_result_73742909c62aea4e']['showMyJobsLinks'] = false;window['sj_result_73742909c62aea4e']['undoAction'] = \"unsave\";window['sj_result_73742909c62aea4e']['jobKey'] = \"73742909c62aea4e\"; window['sj_result_73742909c62aea4e']['myIndeedAvailable'] = true; window['sj_result_73742909c62aea4e']['showMoreActionsLink'] = false; window['sj_result_73742909c62aea4e']['resultNumber'] = 11; window['sj_result_73742909c62aea4e']['jobStateChangedToSaved'] = false; window['sj_result_73742909c62aea4e']['searchState'] = \"q=data scientist&amp;\"; window['sj_result_73742909c62aea4e']['basicPermaLink'] = \"http://www.indeed.com\"; window['sj_result_73742909c62aea4e']['saveJobFailed'] = false; window['sj_result_73742909c62aea4e']['removeJobFailed'] = false; window['sj_result_73742909c62aea4e']['requestPending'] = false; window['sj_result_73742909c62aea4e']['notesEnabled'] = false; window['sj_result_73742909c62aea4e']['currentPage'] = \"serp\"; window['sj_result_73742909c62aea4e']['sponsored'] = true;window['sj_result_73742909c62aea4e']['showSponsor'] = true;window['sj_result_73742909c62aea4e']['sponsorName'] = \"Realogy\";window['sj_result_73742909c62aea4e']['reportJobButtonEnabled'] = false; window['sj_result_73742909c62aea4e']['showMyJobsHired'] = false; window['sj_result_73742909c62aea4e']['showSaveForSponsored'] = true; window['sj_result_73742909c62aea4e']['showJobAge'] = true;</script></div></div>\n",
       " <div class=\"tab-container\">\n",
       " <div class=\"sign-in-container result-tab\"></div>\n",
       " <div class=\"tellafriend-container result-tab email_job_content\"></div>\n",
       " </div>\n",
       " </div>\n",
       " </div>,\n",
       " <div class=\"row result\" data-advn=\"1594886733894779\" data-jk=\"a4ce445181041eb0\" id=\"pj_a4ce445181041eb0\">\n",
       " <a class=\"jobtitle turnstileLink\" data-tn-element=\"jobTitle\" href=\"/pagead/clk?mo=r&amp;ad=-6NYlbfkN0A3ojDD7a4bPG-yvnQ25_ssl5SfeamfjBbLjSp6JyfodLfvDkcWq9JKaUTjMzltpq8gtKbp3V2kIgBQcbGYvtADojuNwUM-UYaXnTPEkOSp3dCIjH7NmDL1d3vx33aEjpRgM8cgzQt_cvix5FAsdWbasFWB67jzJzBnSiXi-WL1ZUafHDOxJeFY2wU-YWnaQJkILW-D-CExLen8Lii_tJ_BmMfUssEd9lEX1v5a7W9k3qmbETtBSVwQaN3DWtcw4W5gJ7E5aItvQ1tEfLHWAe8o8c2bC0is7CHjaCfxlffno02CgUMaakGVdg2pdZbtaWsbybzqO_slWkUrh4rjFXnPJTRCFD9ReKIPZ05KIOfcjIxvtIrVM_u9Xj4UOBZWFao4HntG-i3myxts8s26Rznm7Jl4vp_2cuQpdIdLaPG_1g==&amp;p=4&amp;sk=&amp;fvj=1\" id=\"sja4\" onclick=\"setRefineByCookie([]); sjoc('sja4',0); convCtr('SJ')\" onmousedown=\"sjomd('sja4'); clk('sja4');\" rel=\"noopener nofollow\" target=\"_blank\" title=\"Data Scientist\"><b>Data</b> <b>Scientist</b></a>\n",
       " <br/>\n",
       " <div class=\"sjcl\">\n",
       " <span class=\"company\">\n",
       "     Moss Corporation</span>\n",
       " \n",
       "  - <span class=\"location\">Cleveland, OH</span>\n",
       " </div>\n",
       " <div class=\"\">\n",
       " <table border=\"0\" cellpadding=\"0\" cellspacing=\"0\"><tr><td class=\"snip\">\n",
       " <span class=\"summary\">\n",
       "                             Independently identify and manage analytical projects, performing a variety of tasks including <b>data</b> architect, <b>data</b> mining, <b>data</b> visualization, and modeling....</span>\n",
       " </td></tr></table>\n",
       " </div>\n",
       " <div class=\"sjCapt\">\n",
       " <div class=\"iaP\">\n",
       " <span class=\"iaLabel\"> Easily apply</span>\n",
       " </div>\n",
       " <div class=\"result-link-bar-container\">\n",
       " <div class=\"result-link-bar\"><span class=\" sponsoredGray \">Sponsored</span> - <span class=\"tt_set\" id=\"tt_set_13\"><a class=\"sl resultLink save-job-link \" href=\"#\" id=\"sj_a4ce445181041eb0\" onclick=\"changeJobState('a4ce445181041eb0', 'save', 'linkbar', true, ''); return false;\" title=\"Save this job to my.indeed\">save job</a></span><div class=\"edit_note_content\" id=\"editsaved2_a4ce445181041eb0\" style=\"display:none;\"></div><script>if (!window['sj_result_a4ce445181041eb0']) {window['sj_result_a4ce445181041eb0'] = {};}window['sj_result_a4ce445181041eb0']['showSource'] = false; window['sj_result_a4ce445181041eb0']['source'] = \"Indeed\"; window['sj_result_a4ce445181041eb0']['loggedIn'] = false; window['sj_result_a4ce445181041eb0']['showMyJobsLinks'] = false;window['sj_result_a4ce445181041eb0']['undoAction'] = \"unsave\";window['sj_result_a4ce445181041eb0']['jobKey'] = \"a4ce445181041eb0\"; window['sj_result_a4ce445181041eb0']['myIndeedAvailable'] = true; window['sj_result_a4ce445181041eb0']['showMoreActionsLink'] = false; window['sj_result_a4ce445181041eb0']['resultNumber'] = 13; window['sj_result_a4ce445181041eb0']['jobStateChangedToSaved'] = false; window['sj_result_a4ce445181041eb0']['searchState'] = \"q=data scientist&amp;\"; window['sj_result_a4ce445181041eb0']['basicPermaLink'] = \"http://www.indeed.com\"; window['sj_result_a4ce445181041eb0']['saveJobFailed'] = false; window['sj_result_a4ce445181041eb0']['removeJobFailed'] = false; window['sj_result_a4ce445181041eb0']['requestPending'] = false; window['sj_result_a4ce445181041eb0']['notesEnabled'] = false; window['sj_result_a4ce445181041eb0']['currentPage'] = \"serp\"; window['sj_result_a4ce445181041eb0']['sponsored'] = true;window['sj_result_a4ce445181041eb0']['showSponsor'] = true;window['sj_result_a4ce445181041eb0']['reportJobButtonEnabled'] = false; window['sj_result_a4ce445181041eb0']['showMyJobsHired'] = false; window['sj_result_a4ce445181041eb0']['showSaveForSponsored'] = true; window['sj_result_a4ce445181041eb0']['showJobAge'] = true;</script></div></div>\n",
       " <div class=\"tab-container\">\n",
       " <div class=\"sign-in-container result-tab\"></div>\n",
       " <div class=\"tellafriend-container result-tab email_job_content\"></div>\n",
       " </div>\n",
       " </div>\n",
       " </div>]"
      ]
     },
     "execution_count": 18,
     "metadata": {},
     "output_type": "execute_result"
    }
   ],
   "source": [
    "soup.find_all('div', class_='row result')"
   ]
  },
  {
   "cell_type": "markdown",
   "metadata": {},
   "source": [
    "## 3. Distributions\n",
    "\n",
    "http://www.cs.elte.hu/~mesti/valszam/kepletek.pdf\n",
    "\n",
    "Beta distribution:\n",
    "$B(\\alpha, \\beta) $\n",
    "\n",
    "$\\alpha = 1 + (\\#successes)$\n",
    "\n",
    "$\\beta = 1 + (\\#failures)$\n",
    "\n",
    "http://stats.stackexchange.com/a/47782"
   ]
  },
  {
   "cell_type": "markdown",
   "metadata": {},
   "source": [
    "## 4. Hypothesis testing\n",
    "\n",
    "https://github.com/gschool/DSI_Lectures/blob/master/ab-testing/tammy_lee/lecture.pdf"
   ]
  },
  {
   "cell_type": "code",
   "execution_count": null,
   "metadata": {
    "collapsed": true
   },
   "outputs": [],
   "source": []
  }
 ],
 "metadata": {
  "kernelspec": {
   "display_name": "Python 3",
   "language": "python",
   "name": "python3"
  },
  "language_info": {
   "codemirror_mode": {
    "name": "ipython",
    "version": 3
   },
   "file_extension": ".py",
   "mimetype": "text/x-python",
   "name": "python",
   "nbconvert_exporter": "python",
   "pygments_lexer": "ipython3",
   "version": "3.6.3"
  }
 },
 "nbformat": 4,
 "nbformat_minor": 2
}
