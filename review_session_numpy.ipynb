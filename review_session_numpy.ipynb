{
 "cells": [
  {
   "cell_type": "markdown",
   "metadata": {},
   "source": [
    "# Python tips to HELP YOU"
   ]
  },
  {
   "cell_type": "code",
   "execution_count": 1,
   "metadata": {
    "collapsed": true
   },
   "outputs": [],
   "source": [
    "import numpy as np"
   ]
  },
  {
   "cell_type": "code",
   "execution_count": 12,
   "metadata": {},
   "outputs": [
    {
     "name": "stdout",
     "output_type": "stream",
     "text": [
      "[ 0 16  5  0 10  7 10  8 16 28 21 16  9  2 10  0 10  2  9 17]\n",
      "Shape: (20,)\n"
     ]
    }
   ],
   "source": [
    "foo = np.random.randint(30, size=(20))\n",
    "print (foo)\n",
    "print ('Shape:', foo.shape)"
   ]
  },
  {
   "cell_type": "markdown",
   "metadata": {},
   "source": [
    "## Boolean indexing\n",
    "\n",
    "how about indexing a NUMPY ARRAY with a NUMPY ARRAY OF BOOLEANS\n",
    "\n",
    "Heck Yeah!"
   ]
  },
  {
   "cell_type": "code",
   "execution_count": 4,
   "metadata": {},
   "outputs": [
    {
     "data": {
      "text/plain": [
       "array([17, 13,  5, 10, 25,  7,  9, 27, 25, 26, 27, 13,  8, 27,  5,  3, 17,\n",
       "       13, 14,  3])"
      ]
     },
     "execution_count": 4,
     "metadata": {},
     "output_type": "execute_result"
    }
   ],
   "source": [
    "foo"
   ]
  },
  {
   "cell_type": "code",
   "execution_count": 5,
   "metadata": {},
   "outputs": [
    {
     "data": {
      "text/plain": [
       "array([ True, False, False, False,  True, False, False,  True,  True,\n",
       "        True,  True, False, False,  True, False, False,  True, False,\n",
       "       False, False], dtype=bool)"
      ]
     },
     "execution_count": 5,
     "metadata": {},
     "output_type": "execute_result"
    }
   ],
   "source": [
    "foo > 15"
   ]
  },
  {
   "cell_type": "code",
   "execution_count": 8,
   "metadata": {},
   "outputs": [
    {
     "data": {
      "text/plain": [
       "array([17, 25, 27, 25, 26, 27, 27, 17])"
      ]
     },
     "execution_count": 8,
     "metadata": {},
     "output_type": "execute_result"
    }
   ],
   "source": [
    "# Get the values from foo that are greater than 15\n",
    "bool_mask = foo > 15\n",
    "foo[ bool_mask ]"
   ]
  },
  {
   "cell_type": "code",
   "execution_count": 11,
   "metadata": {},
   "outputs": [
    {
     "name": "stdout",
     "output_type": "stream",
     "text": [
      "['burt' 'hat' 'burt' 'trebuchet' 'trebuchet' 'whale' 'hat' 'hat'\n",
      " 'trebuchet' 'trebuchet' 'whale' 'trebuchet' 'burt' 'whale' 'burt'\n",
      " 'trebuchet' 'hat' 'trebuchet' 'hat' 'trebuchet']\n",
      "Shape: (20,)\n",
      "['burt' 'trebuchet' 'hat' 'trebuchet' 'trebuchet' 'whale' 'whale' 'hat']\n"
     ]
    }
   ],
   "source": [
    "# You can use this mask on any ol' array of the same size\n",
    "\n",
    "labels = np.random.choice(['hat', 'whale', 'trebuchet', 'burt'], size=len(foo))\n",
    "print (labels)\n",
    "print ('Shape:', labels.shape)\n",
    "print (labels[ bool_mask ] )\n"
   ]
  },
  {
   "cell_type": "markdown",
   "metadata": {},
   "source": [
    "## 2D arrays\n",
    "\n",
    "Syntax: [row_slice, column_slice]"
   ]
  },
  {
   "cell_type": "code",
   "execution_count": 17,
   "metadata": {},
   "outputs": [
    {
     "name": "stdout",
     "output_type": "stream",
     "text": [
      "Shape: (8, 6)\n"
     ]
    }
   ],
   "source": [
    "bar = np.random.randint(100, size=(8, 6))\n",
    "print ('Shape:', bar.shape)"
   ]
  },
  {
   "cell_type": "code",
   "execution_count": 21,
   "metadata": {},
   "outputs": [
    {
     "name": "stdout",
     "output_type": "stream",
     "text": [
      "bar (whole array)\n",
      "  [[18 11  7 60 65 99]\n",
      " [29 89 34 32 48 19]\n",
      " [31 30 52 83 91 21]\n",
      " [13 91  6 36 39 81]\n",
      " [60 36 48  3 63 11]\n",
      " [10 56 21 13 71 35]\n",
      " [33 81 17 59 98  8]\n",
      " [66 21 92 46 78  5]]\n",
      "bar[2] (2nd line, zero indexed)\n",
      "  [31 30 52 83 91 21]\n",
      "bar[3,4] (number in 3rd row fourth col)\n",
      "  39\n",
      "bar[2:5,:-2] (rows 2 through 5, and columns up to two from the end)\n",
      "  [[31 30 52 83]\n",
      " [13 91  6 36]\n",
      " [60 36 48  3]]\n",
      "bar[-1:2:-1] (from the last row to the second, in reverse order)\n",
      "  [[66 21 92 46 78  5]\n",
      " [33 81 17 59 98  8]\n",
      " [10 56 21 13 71 35]\n",
      " [60 36 48  3 63 11]\n",
      " [13 91  6 36 39 81]]\n",
      "bar[2,::2] (second row, every other column)\n",
      "  [31 52 91]\n",
      "bar[-1] (the last row)\n",
      "  [66 21 92 46 78  5]\n"
     ]
    }
   ],
   "source": [
    "print(\"bar (whole array)\\n \", bar)\n",
    "print(\"bar[2] (2nd line, zero indexed)\\n \", bar[2])\n",
    "print(\"bar[3,4] (number in 3rd row fourth col)\\n \", bar[3,4])\n",
    "print(\"bar[2:5,:-2] (rows 2 through 5, and columns up to two from the end)\\n \", bar[2:5,:-2])\n",
    "print(\"bar[-1:2:-1] (from the last row to the second, in reverse order)\\n \", bar[-1:2:-1])\n",
    "print(\"bar[2,::2] (second row, every other column)\\n \", bar[2,::2])\n",
    "print(\"bar[-1] (the last row)\\n \", bar[-1])"
   ]
  },
  {
   "cell_type": "markdown",
   "metadata": {},
   "source": [
    "## Boolean masks with 2D arrays"
   ]
  },
  {
   "cell_type": "code",
   "execution_count": 45,
   "metadata": {},
   "outputs": [
    {
     "name": "stdout",
     "output_type": "stream",
     "text": [
      "original array: \n",
      " [[18 11  7 60 65 99]\n",
      " [29 89 34 32 48 19]\n",
      " [31 30 52 83 91 21]\n",
      " [13 91  6 36 39 81]\n",
      " [60 36 48  3 63 11]\n",
      " [10 56 21 13 71 35]\n",
      " [33 81 17 59 98  8]\n",
      " [66 21 92 46 78  5]]\n",
      "original array: \n",
      " [[False False False  True  True  True]\n",
      " [ True  True  True  True  True False]\n",
      " [ True  True  True  True  True  True]\n",
      " [False  True False  True  True  True]\n",
      " [ True  True  True False  True False]\n",
      " [False  True  True False  True  True]\n",
      " [ True  True False  True  True False]\n",
      " [ True  True  True  True  True False]]\n",
      "values greater than 20: \n",
      " [60 65 99 29 89 34 32 48 31 30 52 83 91 21 91 36 39 81 60 36 48 63 56 21 71\n",
      " 35 33 81 59 98 66 21 92 46 78]\n",
      "average of values greater than 20: \n",
      " 0.729166666667\n",
      "average of values greater than 20, by column: \n",
      " [ 0.625  0.875  0.625  0.75   1.     0.5  ]\n",
      "average of values greater than 20, by row: \n",
      " [ 0.5         0.83333333  1.          0.66666667  0.66666667  0.66666667\n",
      "  0.66666667  0.83333333]\n",
      "values in the third column greater than 40: \n",
      "  [ True False  True False False False  True  True]\n",
      "selecting rows where the third column value is greater than 40: \n",
      "  [[18 11  7 60 65 99]\n",
      " [31 30 52 83 91 21]\n",
      " [33 81 17 59 98  8]\n",
      " [66 21 92 46 78  5]]\n",
      "mask3 (mask3 = bar[3, :] > 40)\n",
      "  [False  True False False False  True]\n",
      "bar[:,mask3] \n",
      " [[11 99]\n",
      " [89 19]\n",
      " [30 21]\n",
      " [91 81]\n",
      " [36 11]\n",
      " [56 35]\n",
      " [81  8]\n",
      " [21  5]]\n"
     ]
    }
   ],
   "source": [
    "print(\"original array: \\n\", bar)\n",
    "print(\"original array: \\n\", bar > 20)\n",
    "print(\"values greater than 20: \\n\", bar[ bar > 20 ])\n",
    "print(\"average of values greater than 20: \\n\", (bar > 20).mean())\n",
    "print(\"average of values greater than 20, by column: \\n\", (bar > 20).mean(axis=0))\n",
    "print(\"average of values greater than 20, by row: \\n\", (bar > 20).mean(axis=1))\n",
    "print(\"values in the third column greater than 40: \\n \", bar[:, 3] > 40)\n",
    "print(\"selecting rows where the third column value is greater than 40: \\n \", bar[bar[:, 3] > 40])\n",
    "mask3 = bar[3, :] > 40\n",
    "print(\"mask3 (mask3 = bar[3, :] > 40)\\n \", mask3)\n",
    "print(\"bar[:,mask3] \\n\", bar[:,mask3])"
   ]
  },
  {
   "cell_type": "code",
   "execution_count": 53,
   "metadata": {},
   "outputs": [
    {
     "name": "stdout",
     "output_type": "stream",
     "text": [
      "mask1 \n",
      "  [[False False False False False  True]\n",
      " [False  True False False False False]\n",
      " [False False False  True  True False]\n",
      " [False  True False False False  True]\n",
      " [False False False False False False]\n",
      " [False False False False  True False]\n",
      " [False  True False False  True False]\n",
      " [False False  True False  True False]]\n",
      "mask1.any(axis=0)\n",
      "  [False  True  True  True  True  True]\n",
      "mask1.any(axis=1)\n",
      "  [False  True  True  True  True  True]\n",
      "bar[mask1.any(axis=1)]\n",
      "  [False  True  True  True  True  True]\n"
     ]
    }
   ],
   "source": [
    "# How about the rows that contain at least one value greater than 70?\n",
    "\n",
    "mask1 = (bar > 70)\n",
    "print(\"mask1 \\n \", mask1)\n",
    "print(\"mask1.any(axis=0)\\n \", mask1.any(axis=0))\n",
    "print(\"mask1.any(axis=1)\\n \", mask1.any(axis=0))\n",
    "print(\"bar[mask1.any(axis=1)]\\n \", mask1.any(axis=0))\n",
    "\n",
    "# also mask1.all?"
   ]
  },
  {
   "cell_type": "markdown",
   "metadata": {},
   "source": [
    "## Indexing an array with a list"
   ]
  },
  {
   "cell_type": "code",
   "execution_count": 57,
   "metadata": {},
   "outputs": [
    {
     "name": "stdout",
     "output_type": "stream",
     "text": [
      "foo\n",
      "  [ 0 16  5  0 10  7 10  8 16 28 21 16  9  2 10  0 10  2  9 17]\n",
      "foo[list_mask1]\n",
      "  [16 10 10  5]\n",
      "foo[list_mask2]\n",
      "  [10 10 10 10]\n",
      "bar[list_mask1]\n",
      "  [[29 89 34 32 48 19]\n",
      " [33 81 17 59 98  8]\n",
      " [60 36 48  3 63 11]\n",
      " [31 30 52 83 91 21]]\n",
      "bar[list_mask2]\n",
      "  [[60 36 48  3 63 11]\n",
      " [60 36 48  3 63 11]\n",
      " [60 36 48  3 63 11]\n",
      " [60 36 48  3 63 11]]\n",
      "bar[:,list_mask2]\n",
      "  [[65 65 65 65]\n",
      " [48 48 48 48]\n",
      " [91 91 91 91]\n",
      " [39 39 39 39]\n",
      " [63 63 63 63]\n",
      " [71 71 71 71]\n",
      " [98 98 98 98]\n",
      " [78 78 78 78]]\n"
     ]
    }
   ],
   "source": [
    "print(\"foo\\n \",foo)\n",
    "list_mask1 = [1, 6, 4, 2]\n",
    "print(\"foo[list_mask1]\\n \",foo[list_mask1])\n",
    "list_mask2 = [4, 4, 4, 4]\n",
    "print(\"foo[list_mask2]\\n \",foo[list_mask2])\n",
    "print(\"bar[list_mask1]\\n \",bar[list_mask1])\n",
    "print(\"bar[list_mask2]\\n \",bar[list_mask2])\n",
    "print(\"bar[:,list_mask2]\\n \",bar[:,list_mask2])"
   ]
  },
  {
   "cell_type": "markdown",
   "metadata": {},
   "source": [
    "## Smushing arrays together¶\n"
   ]
  },
  {
   "cell_type": "code",
   "execution_count": 58,
   "metadata": {
    "collapsed": true
   },
   "outputs": [],
   "source": [
    "x1 = np.random.randint(1240,8754,size=(20,1))\n",
    "x2 = np.random.random(size=(20,1))"
   ]
  },
  {
   "cell_type": "code",
   "execution_count": 60,
   "metadata": {},
   "outputs": [
    {
     "name": "stdout",
     "output_type": "stream",
     "text": [
      "x1\n",
      "  [[6557]\n",
      " [5345]\n",
      " [2467]\n",
      " [8363]\n",
      " [6833]\n",
      " [4699]\n",
      " [3842]\n",
      " [2231]\n",
      " [8128]\n",
      " [5169]\n",
      " [3762]\n",
      " [4242]\n",
      " [6482]\n",
      " [3827]\n",
      " [2051]\n",
      " [2157]\n",
      " [1749]\n",
      " [7121]\n",
      " [7050]\n",
      " [5990]]\n",
      "x2\n",
      "  [[ 0.94708154]\n",
      " [ 0.54403034]\n",
      " [ 0.53424141]\n",
      " [ 0.98631078]\n",
      " [ 0.60376462]\n",
      " [ 0.68940426]\n",
      " [ 0.23837084]\n",
      " [ 0.45204409]\n",
      " [ 0.76721112]\n",
      " [ 0.75875202]\n",
      " [ 0.27212794]\n",
      " [ 0.16347486]\n",
      " [ 0.35350932]\n",
      " [ 0.19329675]\n",
      " [ 0.8240933 ]\n",
      " [ 0.43253086]\n",
      " [ 0.05133189]\n",
      " [ 0.2802773 ]\n",
      " [ 0.08955921]\n",
      " [ 0.33395465]]\n",
      "np.concatenate((x1, x2), axis=1)\n",
      "  [[  6.55700000e+03   9.47081535e-01]\n",
      " [  5.34500000e+03   5.44030340e-01]\n",
      " [  2.46700000e+03   5.34241410e-01]\n",
      " [  8.36300000e+03   9.86310777e-01]\n",
      " [  6.83300000e+03   6.03764617e-01]\n",
      " [  4.69900000e+03   6.89404255e-01]\n",
      " [  3.84200000e+03   2.38370839e-01]\n",
      " [  2.23100000e+03   4.52044093e-01]\n",
      " [  8.12800000e+03   7.67211117e-01]\n",
      " [  5.16900000e+03   7.58752021e-01]\n",
      " [  3.76200000e+03   2.72127942e-01]\n",
      " [  4.24200000e+03   1.63474856e-01]\n",
      " [  6.48200000e+03   3.53509316e-01]\n",
      " [  3.82700000e+03   1.93296752e-01]\n",
      " [  2.05100000e+03   8.24093303e-01]\n",
      " [  2.15700000e+03   4.32530861e-01]\n",
      " [  1.74900000e+03   5.13318914e-02]\n",
      " [  7.12100000e+03   2.80277304e-01]\n",
      " [  7.05000000e+03   8.95592058e-02]\n",
      " [  5.99000000e+03   3.33954651e-01]]\n",
      "np.concatenate((x1, x2), axis=0)\n",
      "  [[  6.55700000e+03]\n",
      " [  5.34500000e+03]\n",
      " [  2.46700000e+03]\n",
      " [  8.36300000e+03]\n",
      " [  6.83300000e+03]\n",
      " [  4.69900000e+03]\n",
      " [  3.84200000e+03]\n",
      " [  2.23100000e+03]\n",
      " [  8.12800000e+03]\n",
      " [  5.16900000e+03]\n",
      " [  3.76200000e+03]\n",
      " [  4.24200000e+03]\n",
      " [  6.48200000e+03]\n",
      " [  3.82700000e+03]\n",
      " [  2.05100000e+03]\n",
      " [  2.15700000e+03]\n",
      " [  1.74900000e+03]\n",
      " [  7.12100000e+03]\n",
      " [  7.05000000e+03]\n",
      " [  5.99000000e+03]\n",
      " [  9.47081535e-01]\n",
      " [  5.44030340e-01]\n",
      " [  5.34241410e-01]\n",
      " [  9.86310777e-01]\n",
      " [  6.03764617e-01]\n",
      " [  6.89404255e-01]\n",
      " [  2.38370839e-01]\n",
      " [  4.52044093e-01]\n",
      " [  7.67211117e-01]\n",
      " [  7.58752021e-01]\n",
      " [  2.72127942e-01]\n",
      " [  1.63474856e-01]\n",
      " [  3.53509316e-01]\n",
      " [  1.93296752e-01]\n",
      " [  8.24093303e-01]\n",
      " [  4.32530861e-01]\n",
      " [  5.13318914e-02]\n",
      " [  2.80277304e-01]\n",
      " [  8.95592058e-02]\n",
      " [  3.33954651e-01]]\n",
      "np.hstack((x1, x2))\n",
      "  [[  6.55700000e+03   9.47081535e-01]\n",
      " [  5.34500000e+03   5.44030340e-01]\n",
      " [  2.46700000e+03   5.34241410e-01]\n",
      " [  8.36300000e+03   9.86310777e-01]\n",
      " [  6.83300000e+03   6.03764617e-01]\n",
      " [  4.69900000e+03   6.89404255e-01]\n",
      " [  3.84200000e+03   2.38370839e-01]\n",
      " [  2.23100000e+03   4.52044093e-01]\n",
      " [  8.12800000e+03   7.67211117e-01]\n",
      " [  5.16900000e+03   7.58752021e-01]\n",
      " [  3.76200000e+03   2.72127942e-01]\n",
      " [  4.24200000e+03   1.63474856e-01]\n",
      " [  6.48200000e+03   3.53509316e-01]\n",
      " [  3.82700000e+03   1.93296752e-01]\n",
      " [  2.05100000e+03   8.24093303e-01]\n",
      " [  2.15700000e+03   4.32530861e-01]\n",
      " [  1.74900000e+03   5.13318914e-02]\n",
      " [  7.12100000e+03   2.80277304e-01]\n",
      " [  7.05000000e+03   8.95592058e-02]\n",
      " [  5.99000000e+03   3.33954651e-01]]\n",
      "np.vstack((x1, x2))\n",
      "  [[  6.55700000e+03]\n",
      " [  5.34500000e+03]\n",
      " [  2.46700000e+03]\n",
      " [  8.36300000e+03]\n",
      " [  6.83300000e+03]\n",
      " [  4.69900000e+03]\n",
      " [  3.84200000e+03]\n",
      " [  2.23100000e+03]\n",
      " [  8.12800000e+03]\n",
      " [  5.16900000e+03]\n",
      " [  3.76200000e+03]\n",
      " [  4.24200000e+03]\n",
      " [  6.48200000e+03]\n",
      " [  3.82700000e+03]\n",
      " [  2.05100000e+03]\n",
      " [  2.15700000e+03]\n",
      " [  1.74900000e+03]\n",
      " [  7.12100000e+03]\n",
      " [  7.05000000e+03]\n",
      " [  5.99000000e+03]\n",
      " [  9.47081535e-01]\n",
      " [  5.44030340e-01]\n",
      " [  5.34241410e-01]\n",
      " [  9.86310777e-01]\n",
      " [  6.03764617e-01]\n",
      " [  6.89404255e-01]\n",
      " [  2.38370839e-01]\n",
      " [  4.52044093e-01]\n",
      " [  7.67211117e-01]\n",
      " [  7.58752021e-01]\n",
      " [  2.72127942e-01]\n",
      " [  1.63474856e-01]\n",
      " [  3.53509316e-01]\n",
      " [  1.93296752e-01]\n",
      " [  8.24093303e-01]\n",
      " [  4.32530861e-01]\n",
      " [  5.13318914e-02]\n",
      " [  2.80277304e-01]\n",
      " [  8.95592058e-02]\n",
      " [  3.33954651e-01]]\n",
      "np.hstack((x1, x2))\n",
      "  [[  6.55700000e+03   9.47081535e-01]\n",
      " [  5.34500000e+03   5.44030340e-01]\n",
      " [  2.46700000e+03   5.34241410e-01]\n",
      " [  8.36300000e+03   9.86310777e-01]\n",
      " [  6.83300000e+03   6.03764617e-01]\n",
      " [  4.69900000e+03   6.89404255e-01]\n",
      " [  3.84200000e+03   2.38370839e-01]\n",
      " [  2.23100000e+03   4.52044093e-01]\n",
      " [  8.12800000e+03   7.67211117e-01]\n",
      " [  5.16900000e+03   7.58752021e-01]\n",
      " [  3.76200000e+03   2.72127942e-01]\n",
      " [  4.24200000e+03   1.63474856e-01]\n",
      " [  6.48200000e+03   3.53509316e-01]\n",
      " [  3.82700000e+03   1.93296752e-01]\n",
      " [  2.05100000e+03   8.24093303e-01]\n",
      " [  2.15700000e+03   4.32530861e-01]\n",
      " [  1.74900000e+03   5.13318914e-02]\n",
      " [  7.12100000e+03   2.80277304e-01]\n",
      " [  7.05000000e+03   8.95592058e-02]\n",
      " [  5.99000000e+03   3.33954651e-01]]\n"
     ]
    }
   ],
   "source": [
    "print(\"x1\\n \",x1)\n",
    "print(\"x2\\n \",x2)\n",
    "print(\"np.concatenate((x1, x2), axis=1)\\n \",np.concatenate((x1, x2), axis=1))\n",
    "print(\"np.concatenate((x1, x2), axis=0)\\n \",np.concatenate((x1, x2), axis=0))\n",
    "print(\"np.hstack((x1, x2))\\n \",np.hstack((x1, x2)))\n",
    "print(\"np.vstack((x1, x2))\\n \",np.vstack((x1, x2)))\n",
    "print(\"np.hstack((x1, x2))\\n \",np.hstack((x1, x2)))"
   ]
  },
  {
   "cell_type": "code",
   "execution_count": null,
   "metadata": {
    "collapsed": true
   },
   "outputs": [],
   "source": [
    "x3 = np.random.randint(-50, -2, size=20)\n",
    "x3\n",
    "x3.shape\n",
    "np.hstack((x1, x2, x3))\n",
    "np.hstack((x1, x2, x3.reshape(-1,1)))\n",
    "x3.reshape(-1,1)\n",
    "bar.reshape(-1,1)"
   ]
  },
  {
   "cell_type": "markdown",
   "metadata": {},
   "source": [
    "## True is 1, False is 0"
   ]
  },
  {
   "cell_type": "code",
   "execution_count": 61,
   "metadata": {},
   "outputs": [
    {
     "data": {
      "text/plain": [
       "array([[False, False, False,  True,  True,  True],\n",
       "       [False,  True, False, False, False, False],\n",
       "       [False, False,  True,  True,  True, False],\n",
       "       [False,  True, False, False, False,  True],\n",
       "       [ True, False, False, False,  True, False],\n",
       "       [False,  True, False, False,  True, False],\n",
       "       [False,  True, False,  True,  True, False],\n",
       "       [ True, False,  True, False,  True, False]], dtype=bool)"
      ]
     },
     "execution_count": 61,
     "metadata": {},
     "output_type": "execute_result"
    }
   ],
   "source": [
    "bar > 50"
   ]
  },
  {
   "cell_type": "code",
   "execution_count": 62,
   "metadata": {},
   "outputs": [
    {
     "data": {
      "text/plain": [
       "numpy.ndarray"
      ]
     },
     "execution_count": 62,
     "metadata": {},
     "output_type": "execute_result"
    }
   ],
   "source": [
    "type(_)"
   ]
  },
  {
   "cell_type": "code",
   "execution_count": 63,
   "metadata": {},
   "outputs": [
    {
     "data": {
      "text/plain": [
       "19"
      ]
     },
     "execution_count": 63,
     "metadata": {},
     "output_type": "execute_result"
    }
   ],
   "source": [
    "(bar > 50).sum()"
   ]
  },
  {
   "cell_type": "code",
   "execution_count": 64,
   "metadata": {},
   "outputs": [
    {
     "data": {
      "text/plain": [
       "0.39583333333333331"
      ]
     },
     "execution_count": 64,
     "metadata": {},
     "output_type": "execute_result"
    }
   ],
   "source": [
    "(bar > 50).mean()"
   ]
  },
  {
   "cell_type": "markdown",
   "metadata": {},
   "source": [
    "## Oh the booleanity!"
   ]
  },
  {
   "cell_type": "code",
   "execution_count": 73,
   "metadata": {},
   "outputs": [
    {
     "name": "stdout",
     "output_type": "stream",
     "text": [
      "bool(5):  True\n",
      "bool(0):  False\n",
      "bool('banananas'):  True\n",
      "bool(''):  False\n",
      "bool(None):  False\n",
      "True == bool(6):  True\n",
      "False == None:  False\n",
      "0 == False:  True\n",
      "bool(np.nan):  True\n",
      "np.nan == True:  False\n",
      "np.nan == np.nan:  False\n",
      "bool(np.inf):  True\n",
      "np.inf == np.inf:  True\n",
      "bool([3, '', 32]):  True\n",
      "bool([]):  False\n",
      "bool(['']):  True\n",
      "None == None:  True\n",
      "np.bool_:  <class 'numpy.bool_'>\n"
     ]
    }
   ],
   "source": [
    "print(\"bool(5): \",bool(5))\n",
    "print(\"bool(0): \",bool(0))\n",
    "print(\"bool('banananas'): \",bool('banananas'))\n",
    "print(\"bool(''): \",bool(''))\n",
    "print(\"bool(None): \",bool(None))\n",
    "print(\"True == bool(6): \",True == bool(6))\n",
    "print(\"False == None: \",False == None)\n",
    "print(\"0 == False: \",0 == False)\n",
    "print(\"bool(np.nan): \",bool(np.nan))\n",
    "print(\"np.nan == True: \",np.nan == True)\n",
    "print(\"np.nan == np.nan: \",np.nan == np.nan)\n",
    "print(\"bool(np.inf): \",bool(np.inf))\n",
    "print(\"np.inf == np.inf: \",np.inf == np.inf)\n",
    "print(\"bool([3, '', 32]): \",bool([3, '', 32]))\n",
    "print(\"bool([]): \",bool([]))\n",
    "print(\"bool(['']): \",bool(['']))\n",
    "print(\"None == None: \",None == None)\n",
    "print(\"np.bool_: \",np.bool_)"
   ]
  },
  {
   "cell_type": "code",
   "execution_count": null,
   "metadata": {
    "collapsed": true
   },
   "outputs": [],
   "source": []
  }
 ],
 "metadata": {
  "kernelspec": {
   "display_name": "Python 3",
   "language": "python",
   "name": "python3"
  },
  "language_info": {
   "codemirror_mode": {
    "name": "ipython",
    "version": 3
   },
   "file_extension": ".py",
   "mimetype": "text/x-python",
   "name": "python",
   "nbconvert_exporter": "python",
   "pygments_lexer": "ipython3",
   "version": "3.6.3"
  }
 },
 "nbformat": 4,
 "nbformat_minor": 2
}
