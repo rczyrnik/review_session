{
 "cells": [
  {
   "cell_type": "markdown",
   "metadata": {},
   "source": [
    "# Web Scraping"
   ]
  },
  {
   "cell_type": "code",
   "execution_count": 1,
   "metadata": {
    "collapsed": true
   },
   "outputs": [],
   "source": [
    "import requests\n",
    "from bs4 import BeautifulSoup"
   ]
  },
  {
   "cell_type": "code",
   "execution_count": 3,
   "metadata": {},
   "outputs": [
    {
     "data": {
      "text/plain": [
       "['https://www.ebay.com/itm/Monopoly-Rustic-Series-Board-Game/302446826826?epid=2259836796&hash=item466b3c554a:g:oFgAAOSwm-pZtApa',\n",
       " 'https://www.ebay.com/itm/Settlers-of-Catan-5th-edition-Core-Set-Family-Board-Game-Free-shipping/253282937656?epid=8010811926&hash=item3af8d6eb38:g:IdgAAOSw401aHXEe',\n",
       " 'https://www.ebay.com/itm/Shopkins-Hedbanz-Board-Game/352098359492?epid=710161874&hash=item51fab298c4:g:HAYAAOSw3fZaAe03',\n",
       " 'https://pulsar.ebay.com/plsr/clk/0/SADS/9?pld=%7B%22mecs%22%3A%22332467796453478da3420c1240afb2bf8c58f63d94da%22%2C%22enc%22%3A%22AQACAAACoECrdTMMjTK3cnadl0AMuL0mQnwsRmqZDbgWcvhJuqThhW1oHFiPMk93tFUzBmaDDJsviW%2BPSei3WBSFRpZzEKPUsqzNH%2B9F7IANhSneeh93o7bWsv6aMGqmjyotQOIj2gYj%2F79Z5MRwFIKgCsULLjibZeQn6ENspWshncmJ1HTtZTbGadR%2F5D15TbnUe%2BjYRGr%2BqxL6jXJr5zeGmZF324JX4HtCfcqo6kPKxclNfTm2dFiA9eDoGxaWPxmkT9gyJywZJWsVMoiOldx66Ww2y5JvlCeC%2F1IDPTa93t5EW1%2BmFZ6faINJlAVf1e4asNbq7MfFjuBcjrN8MJ6ayNyPvh%2BItA89XbZXwUZEYzJZnHDkY8SNxKFSlRaTv7zmMGCu3%2FPKooE3acBt2%2FU8H4YB5i3CzX4uLbhe9%2BiVHN1yWX%2B495nB516oBvHk%2BMdZ9UvnVI55A5kvoF1jqWML4NNe0%2BnSeSHOjbFUbO3T0THl2pzNkVmXkPhZwjDoz8GAyeMujFAjbX9yjFvhArxM8zhUNVkjLgSLmniqeSXZowRrY16HhH6%2FpYWUdSAzUEoBZyxEYAOsk2eb0%2FgpgkYyJOTzMTxU3OGCC4Fd2hJx1L5v8nHCcIeEE%2BsKJ8g8MMPd2fOeVGqAtBFgFOxw0D0%2BWl7sGABKYGk1Ro7L5SHSajuvlv3%2F2VdJO9qtC147qPE8LIbArK%2BxkFZIqHjMxqFvq88qbtAd02yjkKp9BrgFY4pRZtFFgbJ6Ctev%2Fz6u%2BS3%2BihF8xGJAexV%2BDwthoWgynPICK1RaDydgssOxnK%2Buq4yhXIRy5eAx9NBsWDPAKZWz4JTfrz9gzqyHZ8xh7fW2ezjvrAVtuXYXhhiAaB5ZZeVGI073Snk8Ic%2FyoyPeCOlZ%2BtjFkA%3D%3D%22%7D',\n",
       " 'https://pulsar.ebay.com/plsr/clk/0/SADS/9?pld=%7B%22mecs%22%3A%22182918609397904f840accf34d05895400a8dc2db10c%22%2C%22enc%22%3A%22AQACAAACsECrdTMMjTK3cnadl0AMuL2TmIyvcRRed%2BcIiF3N47A9uLaN61F11PTYelFAEOjBn2dZC7ds3%2BXrKtJl5pPRKKHDNgrM%2Bad7HwnhA6%2BsClGEI8gws%2FA8qcyzsqZKXYdSaZiFzpI17fwki4JFQNneCQGfN968ym1T9fYoeckdLaEG2fTlsPXy14%2BqwzTIimLg66ul4MJYxY44fjLYWKcKuuF59qBLH7QzNdrXeS%2BL%2F0ER56DnYMmUYog6qFfmvve4z4XMx2gF0ljP4zDmIKmFp1qY%2FQR6p4rUdjauW4%2BpLPjtexqvqlnY8OJGZHxv2WUJB6nPNCN73YqlGgoVASLvuqpanJ8J%2FrqUkoRhhmizg%2B3%2FhDHNeUx2xCi0DdNWH9Dmy2oT7G1pPfy9iRGeD5DKmD3FQWNubgQzf1ONprbdAAARoO1OFXbId1U6yeHSkSNvU5YcpAFicgRJJfuBDKOomYAozStrr6LqILXuzulgSBDjZpSwfKzgojnrPKb85Y0Yd%2B1gDKK%2B5Dld%2BR%2Fsl4E4M8m2Jw5Twdu%2F4yGbRUcP%2Fsdou99bXogU4mMSLdjLWXFicvWi5OK2%2Fd5n7OEeFFpRbAu%2BHPHsU5EgNOfnFNkq898U%2F2mv8VFlQiynJBZ3Jh7aeXfbuVljz4C7Pfs%2B0zOsH8aZPbv6Awxu1H5xVZxEQjz8qgUup3BXPLWv5mvcdyRq3%2BX0N%2FKQK1V7VWUHXUvjXEcQn1Rn%2BXoFpRgeiOvx7f2B3jMHsOj9O838MTmXBPSI0yz5uuApgJSTzhcV%2F3HJBQYYzDMX2kr8mFOGmfplMQQFEuDY5Lnpbx%2FwNBHmkfeRbafmouAXCse52z7daIDKBu%2FJIsuqkammBtdLBrHShfAy6PhRhBwIt83cgY8LkZOV92NuJFp9DMDZNvlF1KwIZDM%3D%22%7D',\n",
       " 'https://www.ebay.com/itm/Candy-Land-Board-Game-Classic-Sweet-Adventures-Family-Fun-Hasbro-NEW/232596535634?epid=2255306083&hash=item3627d57952:g:LGoAAOSwdnZaFE5k',\n",
       " 'https://www.ebay.com/itm/Coup-Card-Game-The-Dystopian-Universe-New-Free-Shipping-Fun-Board-Game-Play/152834858097?hash=item2395aadc71:g:RgAAAOSwz~pZ-kVv',\n",
       " 'https://www.ebay.com/itm/Soggy-Doggy-Board-Game/202151979849?epid=2190815902&hash=item2f11326b49:g:QvIAAOSwnVhaJ74u',\n",
       " 'https://www.ebay.com/itm/Sequence-Game-by-Jax-Strategy-Board-Game-NEW-Free-Shipping/162439714048?hash=item25d2295500:g:IxUAAOSwSlBY0Uz~',\n",
       " 'https://www.ebay.com/itm/GLOOMHAVEN-2nd-Edition-Board-Game-PREORDER/172548394003?epid=713717798&hash=item282caf8c13:g:5ksAAOSw4CFYsK-c',\n",
       " 'https://www.ebay.com/itm/Settlers-of-Catan-Board-Game-5th-Edition-5-6-Player-EXTENSION-EXPANSION-Pack-NEW/253282951647?epid=810474910&hash=item3af8d721df:g:1rsAAOSwWflaHXQ0',\n",
       " 'https://www.ebay.com/itm/Fury-of-Dracula-Third-Edition-Board-Game-Games-Workshop-Sealed-New/322945613067?hash=item4b310efd0b:g:0rUAAOSwywRaDMWO',\n",
       " 'https://www.ebay.com/itm/Jumanji-Action-Board-Game-Original-w-Accessories-Family-Children-Xmas-Gift-Toys/263381108840?epid=25008311121&hash=item3d52bcc868:g:HzQAAOSwlptaLdHn',\n",
       " 'https://pulsar.ebay.com/plsr/clk/0/SADS/9?pld=%7B%22mecs%22%3A%22232601490099e6278a6af7ed4c0c83036b52d949b513%22%2C%22enc%22%3A%22AQACAAACgECrdTMMjTK3cnadl0AMuL2HUd%2FVQtIq%2Bygg8v5k249MXFVaDmxIEL1RuOFG6Pm%2FOcir805ogL%2F8brsr6K%2Fy0ObHBG%2Bhz3uEHYVEGVIXE59N76Yld%2FjsZgNPBkJVUvPVuFINvNelfJREp0Wj%2BEovNPG0u%2FScEDgFZ7%2BDusMXHT6maWDhzch3PYNjg6X6Fabg7wBPPpy8OX3E9rsTLmCxFp%2FO35XO0nCV%2BH6iRmrOd58c7A%2BIxGQP4Njaht4BZicwSCqbLbLwWa8E7P2mvTi79071HCcZIJM%2Bp9CY0W%2Fg7xhmmTrzbo4Kf0J%2BcSfR069xqg145AJjZexVv3ra%2FMsDV8Kqh%2FXvln8DIY45YG%2Fwu367yPRY66PkP0Wpii8YHYD%2FKe4kx3syftgAeO6QTZoLqZkpqJXPGNoy1PpVwq%2BHhNvoeqFwtQ4GkNh6%2FbXBv3DL4oJYewoVM87uzTW7r1n49FJz%2FsypoJmm9MMbHLxr4QZSzP%2BT%2BFtn2tO9WVraW%2Bw3ZtU%2BwXIh%2FpsAUwIBGtn4t91%2Fub0j0J7w94KgZfGwqLNYovNpQMgB6KBkjlR1OVSvWKXNzOnIys%2FZofTuEVPRuaJ2fB98bVN8QFWeNxmWP396R5hmnBJ7J59oUVhfO0DCgONi70fQtoEZ5OT7Cl%2FgT%2BwttaBtM%2FdW4Nj3zqAGTUL3wJwob8sZ%2BDs6nZ2gT1naZjf6Ioutgr3XgGhEqAX12VoxJlnz1EsA9a67whqV2Ll9plqK9mzXg%2BimK9m9B%2F7PbK9HFHpzIJ90nL4bhE2ypBUdpn%2Bp4eKUhto9QEXjSTjb%2BBhvpr7jjebwdgQYM1B6gHhK0Fo8qDSGaYfCytU0E%2Bk%3D%22%7D',\n",
       " 'https://pulsar.ebay.com/plsr/clk/0/SADS/9?pld=%7B%22mecs%22%3A%22142625840597d358d0d8a3674a03b3e27df513ee8dcd%22%2C%22enc%22%3A%22AQACAAACcECrdTMMjTK3cnadl0AMuL06xYzY5U7IvyeYFg0XAx6GwDXvuFjAiGqrec4bEJ1fP6aobYnnHxcjsv%2FgMFActC0h7WNSEDj50RCrse6Gr7OXv6MDcHpFnjLdboezCfY9ucAwlqSzYy%2BpPAnYB7ZC7o167plor%2Fa6ZxNg5xM5DQY%2Fgn5dZP5P6esly9%2BSkKYi8TnlH1CjwnoUJ1%2FfE1kAkj4CL9XxJ3RwbxzowcsINdxnAUtePT%2Fi29KtilNV4m%2B1GPGG6%2FbskHF425OzwDiOduu7XAP6iUe9QqxRy2jdcyV8B1KZK2jsrA%2FTBJ0aM3dmOo0AAxpycg9OZe1nvndE8qjlJMaGZ7YDq4u%2FrQDpuqRZe9IvP%2BnWiH2IblpqkscD6KBknmEJjJoWB7FtDOD9fWkH%2FQIw7IWepBfu0ZjPzag%2FnVh0v%2F0ph2hvdxD77XtX%2BHJsCQOv3Q%2BfWhYAN3bvVZ5tz%2BUzfwG8G6vdUgGbnIDS6vwA3R81RiR3aYg46jtYRgPMAXr4WewydIzbvUmow%2FPgPSCLJPbXpvZN7smyezJO090LcU2mwEsjuSkeMA%2FQ8W%2B6D%2FI%2FZ7Vdft9qXfECam4imIYljb1uxEVJlZWOhUyKPL%2B7mpquPgB%2FTNQlrpvhCHEc755ZPEA9NGePeehVdYQaeckpVhnCAilRNaFFY2%2FWHv%2F6z2Z3PLflxyL5pAKvx3WPPUqS04MWBlqjhyxA%2BUZz2DuDW6uE4vkiXKUzPxmZC40TJJmzk59atOoIuYUt2ftkp5%2FOjOXJMPUCnqNDMnbfGYci1lXQnZjJtfeKIwKVxKg5zIZ37dotEms5m62Yow%3D%3D%22%7D',\n",
       " 'https://www.ebay.com/itm/Trolls-Operation-Board-Game-New-Sealed-By-Dreamworks-Hasbro-Gaming/132440248273?hash=item1ed60dcfd1:g:boAAAOSwehZaLyL0',\n",
       " 'https://www.ebay.com/itm/DRINK-A-PALOOZA-Party-Drinking-Board-Game-Fun-Party-Games-for-Adults/262859810233?epid=691117753&hash=item3d33aa65b9:g:LtIAAOSw791Ztusl',\n",
       " 'https://www.ebay.com/itm/Jim-Hensons-Labyrinth-The-Board-Game/162719777221?epid=2016848289&hash=item25e2dac1c5:g:X5gAAOSwYeRaN8Xt',\n",
       " 'https://www.ebay.com/itm/Draw-What-Fun-Adult-Party-Board-Game-New/332206517210?epid=691338568&hash=item4d590d2bda:g:El0AAOSwO7hZ~VOr',\n",
       " 'https://www.ebay.com/itm/Speak-Out-Board-Game/173017076281?epid=4010890910&hash=item28489f1239:g:FIoAAOSwDkVaJpr5',\n",
       " 'https://www.ebay.com/itm/Small-World-Board-Game-By-Days-Of-Wonder-Factory-Sealed/132440003640?epid=2255341770&hash=item1ed60a1438:g:An0AAOSwz~paLxcX',\n",
       " 'https://www.ebay.com/itm/Funny-Kids-Body-Twister-Moves-Mat-Board-Game-Group-Outdoor-Sport-Toy-Gift/182488853935?epid=853462395&hash=item2a7d2eedaf:g:ag8AAOSwSlBYx24g',\n",
       " 'https://pulsar.ebay.com/plsr/clk/0/SADS/9?pld=%7B%22mecs%22%3A%22142625845944317a7005c72447c6892cfa8dd555b4e9%22%2C%22enc%22%3A%22AQACAAACgECrdTMMjTK3cnadl0AMuL0s%2FUuAwcVTxn1r%2BapYbBd3ZpOeInwCoVwmWkQIP5jt78Lom6Ic63dJjKTTKdIvyFmD%2FOLW07wdv%2ByHWLPttM%2F3pNL3Az%2FnU1yl99MkNSdGrrplJ%2BrvcASe7bc55CGtBzk2Imls041ocSN0JnEDjoZdAV2oBUq%2BducQD9erxs6J1tPDwjipLKdInYNvs4jeETrRUiGjh8Sow77cLVIhk3Vxo55rMSF%2FUX5LyN1sXr6y620Y8emdYaqNSEvpd7Rx6vqrLSagImAB8SiUxJLyq9zrZy4lb2J28sTXkT0dLAPgehvn7LMrirgGEfFcQo%2FDAAcMTBovOpzq01Yf4rV%2FiXRiUSQapyvVZFuN1omc8uSmbUwlZMJfb%2BXvnuhM9EvkBvHYhffHSbTbqFfoQUeO64F%2BwIQ7x706%2BC7mApz6SLAkaH%2BrMAJ%2BzktQVYzB8n4Q2sA1QZKxXOhONlRcSa5RKdKOcibY7k6nmmwvOhx3SRu5eJKc9fY3bWOygivMI2MN9cnvYsEekorpJOu02Rx93X3lSMNtxD7MxnpV9s9baRTeSTVFafXSFpaH9fJD%2BkPr7wPl65Utz5jXp%2BYp2%2Bud3dZ6NWZysJ8xFz0IhI0K1vLU1WWWkOTQKNk2S1IkYitc67VU1mHxCv7wYQWq1pbSK1lhHC%2FaBmF5jBAmbr5NRLQZmWDFwc0pUlQoMKK1ZvVXqXn5kN9fsTREt7mIbbdWKhXtg9t%2BkiILSC8ysMHn%2Bf2wXYa5Mtf9HSZCJwMWRsbC%2B%2F88x%2FlQF6hn9VyBRr8uWND4r%2FwhA9Dn3uI36z9OEIkYk4xcwA%2BJVPfBU5xPI92McPQ%3D%22%7D',\n",
       " 'https://pulsar.ebay.com/plsr/clk/0/SADS/9?pld=%7B%22mecs%22%3A%22253273023153a9b27272ac0140cf8b4fbc6abe3192b2%22%2C%22enc%22%3A%22AQACAAACoECrdTMMjTK3cnadl0AMuL0C4%2BoiKV63Y%2BnvhtV92X77ffPcdgRDjTQ%2BvKAIChJJ49XyUf0xxuapO82WOAhX4%2FTmoBDykvqCABovthU2Y3vt7ZD9jvK3GUNyj6txTZFuSB8SmkkJuXeK%2B2i0N2sfP92YK5yGviYSduIHMhbucE6EZgu7tlMCumuQ43eV%2BzCPUN8wYuivgmNdJMtSMRo9u%2B7fAPpDeey%2FekSeKrh052rOzhFFrd8PeQVdOrDUIQdcPrGIwhLtKArsYPqt0uCc34gadKqs7c8s0ILTLBcbCZkf%2B1M6Zm9Bs2j2a8s%2BkcWLy%2BaUDi1ziiJUuwk6seaC%2BTZW%2F4p8%2FkHMY3XTV5vtu8R4Sr%2F4mbqVgGgfpO83CZ6%2BagTPqArsyJtyVxTVyq1mxV%2Bg3wtev6QE0vWhABfXn1w%2F77AX06B1tx3idB7QH%2FOKEJ%2FP9nUXMxh45U1wyPOdj0Ig2CR4ST0cyAf0m3OkWRXvwYkK4vstv%2BCLL3%2FoWfbGGECek%2FEXHh3g1i%2BVA9EcPzboX78BEPdhySscl%2FTzWsNfM6%2B%2FC2IgJDLzGQeRWsbTPrXP5GPc8fkPH%2FkJnDHYDXMTWbBBYxYAD6IuKv1hpw11bxA31YbnBrX5EFZTg4RoEyqqG%2BsSQQF7%2Bru6kvvwJ8BWJ3OdxbkmHTk3nGUrkybLzyI6ye2uEN56H84xz8VSMIvzOZ55gsm4%2FRJlREjGyLi5it5bWUGQuua2J3SDBA2B%2FrlNaDUrqaAlp94DxFP90iAr1EHH6HVFnwvqs6kFaZPjhZArXrFxhJwc59OW4srsbC4Tdc56ImNjNP4xBqyhQfFegdHcQEgHtjmgA97uZ0PJdt%2FbkpNd3RmcWQUTFGICnw46vxa061sSxWXM%2FuyKRw%3D%3D%22%7D',\n",
       " 'https://www.ebay.com/itm/New-Funny-Speak-Out-Board-Game-Mouthguard-Challenge-Game-Christmas-Gift/391630180217?hash=item5b2efa4f79:g:tsYAAOSwImRYRM3E',\n",
       " 'https://www.ebay.com/itm/Monopoly-Tim-Burtons-Nightmare-Before-Christmas-Board-Game/302566861863?epid=2255405312&hash=item467263ec27:g:mk0AAOSwmOJaNFMH',\n",
       " 'https://www.ebay.com/itm/2017-Speak-Out-Funny-Mouthpiece-Board-Challenge-Mouthguard-Christmas-XMAS-Game/142187966945?epid=503926149&hash=item211b1031e1:g:wyYAAOSwaEhZHnKV',\n",
       " 'https://www.ebay.com/itm/Scrabble-Deluxe-Edition-Board-Game/172972482447?epid=710162736&hash=item2845f69f8f:g:dckAAOSwVtZaBPzu',\n",
       " 'https://www.ebay.com/itm/Twilight-Struggle-The-Cold-War-1945-1989-New-Sealed-Board-Game-GMT-Games/122851034068?hash=item1c9a7e03d4:g:~VYAAOSwywRaKu5u',\n",
       " 'https://www.ebay.com/itm/Tokaido-Board-Game/222760965581?hash=item33dd9695cd:g:ZzoAAOSw1cNaFcGx',\n",
       " 'https://www.ebay.com/itm/Samurai-and-Katana-Board-Game/112700613191?hash=item1a3d7ae247:g:13kAAOSw5cNYY8k8',\n",
       " 'https://www.ebay.com/itm/New-Sealed-Small-World-Days-of-Wonder-Board-Game-By-Philippe-Keyaer21/202136286499?hash=item2f1042f523:g:W8QAAOSwiBJaJgHO',\n",
       " 'https://www.ebay.com/itm/NEW-JUMANJI-BOARD-GAME-CARDINAL-EDITION-IN-REAL-WOODEN-WOOD-BOX-PRIORITY-SHIP/263380854778?epid=23011124317&hash=item3d52b8e7fa:g:EZ0AAOSw8AhaNJZ6',\n",
       " 'https://www.ebay.com/itm/Monopoly-Game-Ultimate-Banking-Edition-Electronic-Game-Board-New/322640064890?hash=item4b1ed8b17a:g:9Z8AAOSwiiRZiM4K',\n",
       " 'https://www.ebay.com/itm/Azul-Board-Game-Plan-B-Games-Sealed-New-HOT-GAME-FOR-CHRISTMAS/263378401261?hash=item3d529377ed:g:COwAAOSwEaBaGG4m',\n",
       " 'https://www.ebay.com/itm/Brand-New-Captain-Sonar-Board-Game-Free-Shipping/162698043159?epid=2254529950&hash=item25e18f1f17:g:R1sAAOSwNbJZ1X7c',\n",
       " 'https://pulsar.ebay.com/plsr/clk/0/SADS/9?pld=%7B%22mecs%22%3A%221426258398892e9b7e8da90a4fecbd1d6671406f8614%22%2C%22enc%22%3A%22AQACAAACcECrdTMMjTK3cnadl0AMuL0w0MZBvz%2BZVEXWDUbZcgqTjC3BuOEEgEvhkoZlNRQnNBh8OxHhzQEtDZHXx6ZUvHwS5Nuov7hVdnn4aLX7c2%2Ft7E0IIgZiBRMy3j0cr9iAcOt6sdqtKz%2B8TKb7%2BL5PgoLkjswsWIQSlRaSF4MAyvfFMinP7J2yPi8vvk7FUA9oFmb5Hi%2BQSA1ZXNCADSJV8s80wHmNgHi1DrqcLXv5eIK9EwhbDOOar4D5cVzrdVluzpCxCYg32zZyEXVdY25hrmoPbs5gA4yFVG8CYLGYjDIe3SP1kJJyqi9%2FSPGeFvKQvBnYWeeh3hQFEw0uDr3mgdzFQqXaM5%2FbUsMPIhr%2FxAdolZLz%2B3ujtIPy064SqWzIzlLTdn6yCGruodK5vZrAFz3QN%2FDRDTyhi6PhoeXEvMpWJAhbvVF3KKMofAMWtgg5%2BXnm2CUfrpHWIXtpAVN5Z5fu0ZQip5BrXuZOIClC%2FCrHIuB5%2FQJYQP5KPUwD2VNP17KG%2BdHOzoUEAABkoyMZMgeSvbYZAqzKVHYxRG5qgfn9I57FUk2398nVaZBFaieALGxMOvaeICc6Q3zLP45g48kuj4HOUfkigS%2BEiHk%2BWzq%2BTz1RafaR06B2po6UhCRCQbIFDDj0uJPDGYAlokqiHwfuS8zc9NUUEsgY5ZvTFVPUqhAFec65LxOChOHdZyg7Xnd2WZUbHu2OqyX0qZMd2Xh1ZJ5DGzkT0XBAujirOl%2FFAWG1mJfjQqxIOgOKOdrdvHmA%2F1HMQF0TVqAGnV4CMClAuk32xPF8IcApC%2BLRhfW5HxPabKg3gPXVGHpLDMCgxg%3D%3D%22%7D',\n",
       " 'https://pulsar.ebay.com/plsr/clk/0/SADS/9?pld=%7B%22mecs%22%3A%221426258404210d82e8a2729741108041457abefd8e33%22%2C%22enc%22%3A%22AQACAAACsECrdTMMjTK3cnadl0AMuL0Toqr8BjyhjFypKnmECDrDBrRhTS0pMVp%2BeM%2FwTCTz%2FuhujfZ%2BDDWkDcMGFuRp2y1J1vjZl1NVwr2Ebtoz2Jcuz91bsgm%2BrTU8DpssUYDYOYALSJPoahco%2Brk7mUwIqbOTZSpxqEoxbLNHdy4c0IVYZ9pc6vVFy8jTuxF%2FuzoBaPCfflpvxQmy3WGYUbInGkWlsFNQkTwvZ04HzMoh6%2BQTABy3OlFxtPUNR8jbcVg%2FhLuWMAkWA2a0j6d8VAr3d5hY7GEn5HLdbMUMA7aFX3TVfDgrenI1KtwB66K0SRAUX2w6RlDaSuzN2Wlp7blehTGGy%2FXSUjREwxHOODt3yR8xAcc7P6YrsK7QuFUWG%2F7xq5MnKF%2FtB6qaPV3oeUUVSlkneYQTzqogA%2BAPw5uQwyx39hbaQ9IXevrRCEa8dU2lCfdYXK%2BOr5LSpD%2F97MnOa7LXMCEC2rUgNL28g3suYkIBCMe6h3OVBtyoBLb7ma7EWWYcZC6oW15IQZDwTuWC0MZ9gyAz0bzg8fQ3KeYP06h%2BFNAw7Wl%2BRdKWlIFwaD7zP7sV4N1FlAlgHTrSQPhwIKJXNyEDartfdWQGO0kgPPcwauh76hN9jFJmSWPmPGT12ENoDw8%2B9lRLCnaxdpuWkMSDFrQ%2FPU4EKxHNsvuYY846Of0ResTPQ297qYwOYd%2FFjOpkbiSwzUgBQyFVnoii5rGpehtTQJ82Qj30kvyK%2Bda364WimnhYUV3mA6xGUZMVgVzmYrPD1kBj54nNWMeO0jSDkMZbostmbJ6whC6u5S7Vh39dJV87vAXhAzZGvFFfbe3MnczTXkkICdaeSqXa7FBMA50GJavz1XrN5HJCvkvAUV94T552B5Jr%2BLfGdy4c%2Fo4aV93uLa%2Be1vSbiJI0FQ0%3D%22%7D',\n",
       " 'https://www.ebay.com/itm/Soggy-Doggy-Board-Game-NEW-FREE-SHIPPING/172993825529?epid=2190815902&hash=item28473c4af9:g:8ZAAAOSw-wJaFcaj',\n",
       " 'https://www.ebay.com/itm/OEJ-Catacombs-Castles-Dexterity-Board-Game/372169918197?hash=item56a70e46f5:g:C6gAAOSw3RZaMv7U',\n",
       " 'https://www.ebay.com/itm/Angry-Birds-Space-Board-Game-Planet-Block-Version-NEW-IN-BOX/142611523621?epid=2254430085&hash=item21344f2825:g:mCEAAOSwYIxX3YM-',\n",
       " 'https://www.ebay.com/itm/Harry-Potter-Clue-Board-Game/282734163250?epid=2254591590&hash=item41d444f532:g:lKsAAOSw1NFaDIbD',\n",
       " 'https://www.ebay.com/itm/Jax-Jumbo-Sequence-BOARD-GAME-SET-Box-Edition-Sequence-GAME/132421905793?epid=691274132&hash=item1ed4f5ed81:g:li0AAOSwjDZYd~-P',\n",
       " 'https://www.ebay.com/itm/Catan-Game-of-Thrones-Board-Game/302557010204?hash=item4671cd991c:g:iz8AAOSwtnpaKUJl',\n",
       " 'https://www.ebay.com/itm/Star-Wars-Rebellion-Board-Game-BRAND-NEW-No-Sales-Tax-FREE-SAME-DAY-SHIPPING/132425242941?hash=item1ed528d93d:g:o2AAAOSwFyhaJ9WA',\n",
       " 'https://www.ebay.com/itm/Asmodee-Mysterium-Board-Game-Brand-New-Factory-Sealed-3558380029564/152829834958?epid=1640579576&hash=item23955e36ce:g:5j0AAOSwsFpaNEKt',\n",
       " 'https://www.ebay.com/itm/The-Nightmare-Before-Christmas-Monopoly-Board-Game/391529871762?hash=item5b28ffb992:g:sKQAAOSw0A9aJ3vi',\n",
       " 'https://www.ebay.com/itm/The-Walking-Dead-Clue-Board-Game/401416330113?epid=2214827400&hash=item5d76471b81:g:Q2UAAOSwZB9aAi7M',\n",
       " 'https://www.ebay.com/itm/NEW-JUMANJI-BOARD-GAME-CARDINAL-EDITION-REAL-WOODEN-WOOD-BOX-WOW/272987074108?epid=23011124317&hash=item3f8f4c2e3c:g:FEkAAOSwk~ZaLxPR',\n",
       " 'https://www.ebay.com/itm/Smart-Ass-Family-Trivia-Board-Game-Party-Night-Games-Ages-12-NEW-Free-Ship/231818480802?hash=item35f9754ca2:g:vWQAAOSwnHZYW58T',\n",
       " 'https://www.ebay.com/itm/7-Wonders-Duel-Board-Game-Brand-New-Factory-Sealed/263393927573?hash=item3d53806195:g:9jUAAOSwGwlaN~cR',\n",
       " 'https://www.ebay.com/itm/Harry-Potter-Clue-Board-Game/222762399414?epid=1573238094&hash=item33ddac76b6:g:KFkAAOSwiBJaMpjz',\n",
       " 'https://www.ebay.com/itm/New-Where-in-the-World-is-Carmen-Sandiego-Board-Game-1992-Vintage-Sealed/232602763579?epid=1625424373&hash=item362834813b:g:0vEAAOSw1NFaOaCi',\n",
       " 'https://www.ebay.com/itm/Trouble-Game-Board-Game-New-Free-Shipping-Sealed-Toy-Gift-Present-Boys-Girls/253262855799?hash=item3af7a47e77:g:0AkAAOSwGzhaDf8E',\n",
       " 'https://www.ebay.com/itm/Cardinal-Games-Jumanji-the-Game-Action-GAMES-30-danger-cards-game-board/132353548728?epid=2278689836&hash=item1ed0e2e1b8:g:v-cAAOSw4P1Z12BV',\n",
       " 'https://www.ebay.com/itm/Stranger-Things-Monopoly-Board-Game/202150979639?hash=item2f11232837:g:gG8AAOSwl9RaNsl3',\n",
       " 'https://www.ebay.com/itm/2003-Dungeons-and-Dragons-Board-Game-Eternal-Winter-Expansion-INCOMPLETE/272989953903?hash=item3f8f781f6f:g:HLIAAOSwjlBaOecq',\n",
       " 'https://www.ebay.com/itm/Original-Jumanji-Action-Board-Game-w-Accessories-Family-Children-Xmas-Gift-Toys/263380297259?hash=item3d52b0662b:g:Z3EAAOSwZqZaLWu6',\n",
       " 'https://pulsar.ebay.com/plsr/clk/0/SADS/9?pld=%7B%22mecs%22%3A%22192395974781439b5f2c50804d2b8c5ec5f564bfceaf%22%2C%22enc%22%3A%22AQACAAACgECrdTMMjTK3cnadl0AMuL1rTu1OgMR%2FP4JQoqU%2FfZw18IFeDm3K2R5S6zRnsR4wO%2FcG2yvb2Rvqf1%2B3SYXMl9TXXBK%2BrbuY11PYpsGHK4Uq1waB0XDcUdXI3BGdm8RHlGJiORYGqomSQwRwle2XaiGdS4YiFrKi1%2FIFyT5SieF7uZ4pzs3DSX1wyZygJ%2FJ7xNzZK6w35go2tLi4aWoNv3ULiZ8qBFsECRxkNMWOJcXDR4AxZA1TTFOSIaQu6ZVDtaLh1FoRAZIK7jAoqqWHrMLZwe50dwwUxRDNEvk1VTqX%2BI3Xr4GllQcYAGmkQSDo%2Ba4PqePDBzL24DDgUThIWIbuvnIA%2F4WIBeBXg7tneYqTPqkbpfwKEwETAoB7ffM7AqRIYyGkL%2FZtre7oolpJljWeChxxLesp1fMHgvT9%2FpBSK%2FbhjD%2B9I1BcfYMHm8SroIbnOO4YKe8S9q%2FYncciTNryq8H58fgIkJdBnaieRwH3t7DYCKcxJq7ITRKYUAEZ5u7JCLxgblmtqi%2Fweh8rXqncfMAUT%2FiWCs9rmvzJEYJd2k6%2Fplzy7Bu%2FBpOGTOuz95mEvb%2B38bz5463pV1AABd7ix1XJBt9SwZH3SiS%2FY0VRpc6fuu3VLeNEoo2crSaP%2FH4S3wXABrVWmQaMGixn7Xw8UofMF2KTSfvCKsbUaBJu2SvYAWPNR%2FmVkMSbOUPGEGVnaZpzlx9DStax7b4plXJ6Kt%2FneDGHMkC3bi4S6%2BbgjixCZX%2B6%2FsnaguaGJm%2FWsBxyl97okNnftv%2B6r15bKowiFLE6HafKxDAGD1dwcuMGs%2FTREd2YqcM%2BJHW3r2K6txaBlWguE8tm6ENQDk5dyFI%3D%22%7D',\n",
       " 'https://pulsar.ebay.com/plsr/clk/0/SADS/9?pld=%7B%22mecs%22%3A%2214262584483053a0eb1de1aa4486b66c695aacc76fca%22%2C%22enc%22%3A%22AQACAAACkECrdTMMjTK3cnadl0AMuL0SjwWGxJfZdpjioXMWXUTtze3JLr0ndEYDMeRexlH5tgwtddafOXy%2FBEO7E%2FcX2QgjeejIRNCsgVanPW48xFnmkp%2BucIVQjg2Vh60bq5AlVwkKILiqPmgvGi8NMzvJhcyyRxShi%2BJ5qv98sNOVrOr06ZBXkTYdcMh8p%2FsqEuPs3oflY7VnCwwLo5tvs36sgZ%2FmDoV%2F28HH7JomVScwrrVHmyHFoyfpqPHe1L4gxsxlY%2F%2FU8Xaa3JXbZQLomv3oa%2B3kk0Uf4CciZYz2jzezZ3pKkGMlokwTYIjPD71IsmIec8mvwkNIeSYcx71euwoH%2BkYXTLyMJPHKYgcFqoFfgjia9fEDkIXoW4sN9GxmBzup4Ngp7CvgLqP6%2BcgLxX6NYuzOruKBDyCgELXhukf%2FPyPGNc5aBHfhys%2F7JfBeNWHVvaX%2FP7ElyRWE1j5kWnIgWNh5MNRmGmKu4QNFKQTBH%2F7iIXmiwbvxETxkHJGmKxOI2ybRxvk0VHOUOtpGwfw0RAln9RlWdjZSXnDEE9%2BHolRq0WZgw6QWUzJMfz6BdpCsrlZh5AjASywPMDpsaqAwfcQq8n8LGzIdZRa0M57iECGs6Ve5d3XhohlAhAg1A2%2FJabiO7Q4M6rLPnC%2B%2FV4ANmG%2F0M5RaiHO7fJSI8IGTfzJDUpSLXXbdKOrcJCQ5lDXzMNWntUy1Zwdp3ipYuNqEzn28NikyLdJ%2BTdr7QMP26oDoJjbh1f%2BHoznwEfmYF1wH2lcRcx3PwvappzN%2F9htIKV0zpeSaJUWSkwaiXa3kmtFP4LluRyeoMg9GrNMf7EjBkxmdQ5DrbDLH39fj4fuJQo93YoKe86Ce40yTGhKJoG5a%22%7D']"
      ]
     },
     "execution_count": 3,
     "metadata": {},
     "output_type": "execute_result"
    }
   ],
   "source": [
    "ebay_url = 'http://www.ebay.com/sch/board+games'\n",
    "response = requests.get(ebay_url)\n",
    "soup = BeautifulSoup(response.text, \"html.parser\")\n",
    "[tag['href'] for tag in soup.find_all('a', class_='vip')]"
   ]
  },
  {
   "cell_type": "code",
   "execution_count": 4,
   "metadata": {},
   "outputs": [
    {
     "data": {
      "text/plain": [
       "<img alt=\"\" height=\"200\" id=\"gh-logo\" role=\"presentation\" src=\"https://ir.ebaystatic.com/rs/v/fxxj3ttftm5ltcqnto1o4baovyl.png\" style=\"clip:rect(47px, 118px, 95px, 0px); position:absolute; top:-47px;left:0\" width=\"250\"/>"
      ]
     },
     "execution_count": 4,
     "metadata": {},
     "output_type": "execute_result"
    }
   ],
   "source": [
    "soup.find('img')"
   ]
  },
  {
   "cell_type": "code",
   "execution_count": 5,
   "metadata": {},
   "outputs": [
    {
     "data": {
      "text/plain": [
       "<a class=\"img imgWr2\" href=\"https://www.ebay.com/itm/Monopoly-Rustic-Series-Board-Game/302446826826?epid=2259836796&amp;hash=item466b3c554a:g:oFgAAOSwm-pZtApa\">\n",
       "<img alt=\"Monopoly - Rustic Series Board Game\" class=\"img\" src=\"https://i.ebayimg.com/thumbs/images/g/oFgAAOSwm-pZtApa/s-l225.jpg\"/>\n",
       "</a>"
      ]
     },
     "execution_count": 5,
     "metadata": {},
     "output_type": "execute_result"
    }
   ],
   "source": [
    "soup.find(class_='img imgWr2')"
   ]
  },
  {
   "cell_type": "code",
   "execution_count": 6,
   "metadata": {},
   "outputs": [
    {
     "data": {
      "text/plain": [
       "'https://i.ebayimg.com/thumbs/images/g/oFgAAOSwm-pZtApa/s-l225.jpg'"
      ]
     },
     "execution_count": 6,
     "metadata": {},
     "output_type": "execute_result"
    }
   ],
   "source": [
    "soup.find(class_='img imgWr2').img['src']"
   ]
  },
  {
   "cell_type": "code",
   "execution_count": 7,
   "metadata": {},
   "outputs": [
    {
     "data": {
      "text/plain": [
       "'https://www.ebay.com/itm/Monopoly-Rustic-Series-Board-Game/302446826826?epid=2259836796&hash=item466b3c554a:g:oFgAAOSwm-pZtApa'"
      ]
     },
     "execution_count": 7,
     "metadata": {},
     "output_type": "execute_result"
    }
   ],
   "source": [
    "soup.find(class_='img imgWr2')['href']"
   ]
  },
  {
   "cell_type": "code",
   "execution_count": 8,
   "metadata": {},
   "outputs": [
    {
     "data": {
      "text/plain": [
       "'https://www.ebay.com/itm/Monopoly-Rustic-Series-Board-Game/302446826826?epid=2259836796&hash=item466b3c554a:g:oFgAAOSwm-pZtApa'"
      ]
     },
     "execution_count": 8,
     "metadata": {},
     "output_type": "execute_result"
    }
   ],
   "source": [
    "soup.find('h3', class_='lvtitle').a['href']"
   ]
  },
  {
   "cell_type": "code",
   "execution_count": 9,
   "metadata": {},
   "outputs": [
    {
     "name": "stdout",
     "output_type": "stream",
     "text": [
      "https://www.ebay.com/itm/Monopoly-Rustic-Series-Board-Game/302446826826?epid=2259836796&hash=item466b3c554a:g:oFgAAOSwm-pZtApa\n",
      "https://www.ebay.com/itm/Settlers-of-Catan-5th-edition-Core-Set-Family-Board-Game-Free-shipping/253282937656?epid=8010811926&hash=item3af8d6eb38:g:IdgAAOSw401aHXEe\n",
      "https://www.ebay.com/itm/Shopkins-Hedbanz-Board-Game/352098359492?epid=710161874&hash=item51fab298c4:g:HAYAAOSw3fZaAe03\n",
      "https://pulsar.ebay.com/plsr/clk/0/SADS/9?pld=%7B%22mecs%22%3A%22332467796453478da3420c1240afb2bf8c58f63d94da%22%2C%22enc%22%3A%22AQACAAACoECrdTMMjTK3cnadl0AMuL0mQnwsRmqZDbgWcvhJuqThhW1oHFiPMk93tFUzBmaDDJsviW%2BPSei3WBSFRpZzEKPUsqzNH%2B9F7IANhSneeh93o7bWsv6aMGqmjyotQOIj2gYj%2F79Z5MRwFIKgCsULLjibZeQn6ENspWshncmJ1HTtZTbGadR%2F5D15TbnUe%2BjYRGr%2BqxL6jXJr5zeGmZF324JX4HtCfcqo6kPKxclNfTm2dFiA9eDoGxaWPxmkT9gyJywZJWsVMoiOldx66Ww2y5JvlCeC%2F1IDPTa93t5EW1%2BmFZ6faINJlAVf1e4asNbq7MfFjuBcjrN8MJ6ayNyPvh%2BItA89XbZXwUZEYzJZnHDkY8SNxKFSlRaTv7zmMGCu3%2FPKooE3acBt2%2FU8H4YB5i3CzX4uLbhe9%2BiVHN1yWX%2B495nB516oBvHk%2BMdZ9UvnVI55A5kvoF1jqWML4NNe0%2BnSeSHOjbFUbO3T0THl2pzNkVmXkPhZwjDoz8GAyeMujFAjbX9yjFvhArxM8zhUNVkjLgSLmniqeSXZowRrY16HhH6%2FpYWUdSAzUEoBZyxEYAOsk2eb0%2FgpgkYyJOTzMTxU3OGCC4Fd2hJx1L5v8nHCcIeEE%2BsKJ8g8MMPd2fOeVGqAtBFgFOxw0D0%2BWl7sGABKYGk1Ro7L5SHSajuvlv3%2F2VdJO9qtC147qPE8LIbArK%2BxkFZIqHjMxqFvq88qbtAd02yjkKp9BrgFY4pRZtFFgbJ6Ctev%2Fz6u%2BS3%2BihF8xGJAexV%2BDwthoWgynPICK1RaDydgssOxnK%2Buq4yhXIRy5eAx9NBsWDPAKZWz4JTfrz9gzqyHZ8xh7fW2ezjvrAVtuXYXhhiAaB5ZZeVGI073Snk8Ic%2FyoyPeCOlZ%2BtjFkA%3D%3D%22%7D\n",
      "https://pulsar.ebay.com/plsr/clk/0/SADS/9?pld=%7B%22mecs%22%3A%22182918609397904f840accf34d05895400a8dc2db10c%22%2C%22enc%22%3A%22AQACAAACsECrdTMMjTK3cnadl0AMuL2TmIyvcRRed%2BcIiF3N47A9uLaN61F11PTYelFAEOjBn2dZC7ds3%2BXrKtJl5pPRKKHDNgrM%2Bad7HwnhA6%2BsClGEI8gws%2FA8qcyzsqZKXYdSaZiFzpI17fwki4JFQNneCQGfN968ym1T9fYoeckdLaEG2fTlsPXy14%2BqwzTIimLg66ul4MJYxY44fjLYWKcKuuF59qBLH7QzNdrXeS%2BL%2F0ER56DnYMmUYog6qFfmvve4z4XMx2gF0ljP4zDmIKmFp1qY%2FQR6p4rUdjauW4%2BpLPjtexqvqlnY8OJGZHxv2WUJB6nPNCN73YqlGgoVASLvuqpanJ8J%2FrqUkoRhhmizg%2B3%2FhDHNeUx2xCi0DdNWH9Dmy2oT7G1pPfy9iRGeD5DKmD3FQWNubgQzf1ONprbdAAARoO1OFXbId1U6yeHSkSNvU5YcpAFicgRJJfuBDKOomYAozStrr6LqILXuzulgSBDjZpSwfKzgojnrPKb85Y0Yd%2B1gDKK%2B5Dld%2BR%2Fsl4E4M8m2Jw5Twdu%2F4yGbRUcP%2Fsdou99bXogU4mMSLdjLWXFicvWi5OK2%2Fd5n7OEeFFpRbAu%2BHPHsU5EgNOfnFNkq898U%2F2mv8VFlQiynJBZ3Jh7aeXfbuVljz4C7Pfs%2B0zOsH8aZPbv6Awxu1H5xVZxEQjz8qgUup3BXPLWv5mvcdyRq3%2BX0N%2FKQK1V7VWUHXUvjXEcQn1Rn%2BXoFpRgeiOvx7f2B3jMHsOj9O838MTmXBPSI0yz5uuApgJSTzhcV%2F3HJBQYYzDMX2kr8mFOGmfplMQQFEuDY5Lnpbx%2FwNBHmkfeRbafmouAXCse52z7daIDKBu%2FJIsuqkammBtdLBrHShfAy6PhRhBwIt83cgY8LkZOV92NuJFp9DMDZNvlF1KwIZDM%3D%22%7D\n",
      "https://www.ebay.com/itm/Candy-Land-Board-Game-Classic-Sweet-Adventures-Family-Fun-Hasbro-NEW/232596535634?epid=2255306083&hash=item3627d57952:g:LGoAAOSwdnZaFE5k\n",
      "https://www.ebay.com/itm/Coup-Card-Game-The-Dystopian-Universe-New-Free-Shipping-Fun-Board-Game-Play/152834858097?hash=item2395aadc71:g:RgAAAOSwz~pZ-kVv\n",
      "https://www.ebay.com/itm/Soggy-Doggy-Board-Game/202151979849?epid=2190815902&hash=item2f11326b49:g:QvIAAOSwnVhaJ74u\n",
      "https://www.ebay.com/itm/Sequence-Game-by-Jax-Strategy-Board-Game-NEW-Free-Shipping/162439714048?hash=item25d2295500:g:IxUAAOSwSlBY0Uz~\n",
      "https://www.ebay.com/itm/GLOOMHAVEN-2nd-Edition-Board-Game-PREORDER/172548394003?epid=713717798&hash=item282caf8c13:g:5ksAAOSw4CFYsK-c\n",
      "https://www.ebay.com/itm/Settlers-of-Catan-Board-Game-5th-Edition-5-6-Player-EXTENSION-EXPANSION-Pack-NEW/253282951647?epid=810474910&hash=item3af8d721df:g:1rsAAOSwWflaHXQ0\n",
      "https://www.ebay.com/itm/Fury-of-Dracula-Third-Edition-Board-Game-Games-Workshop-Sealed-New/322945613067?hash=item4b310efd0b:g:0rUAAOSwywRaDMWO\n",
      "https://www.ebay.com/itm/Jumanji-Action-Board-Game-Original-w-Accessories-Family-Children-Xmas-Gift-Toys/263381108840?epid=25008311121&hash=item3d52bcc868:g:HzQAAOSwlptaLdHn\n",
      "https://pulsar.ebay.com/plsr/clk/0/SADS/9?pld=%7B%22mecs%22%3A%22232601490099e6278a6af7ed4c0c83036b52d949b513%22%2C%22enc%22%3A%22AQACAAACgECrdTMMjTK3cnadl0AMuL2HUd%2FVQtIq%2Bygg8v5k249MXFVaDmxIEL1RuOFG6Pm%2FOcir805ogL%2F8brsr6K%2Fy0ObHBG%2Bhz3uEHYVEGVIXE59N76Yld%2FjsZgNPBkJVUvPVuFINvNelfJREp0Wj%2BEovNPG0u%2FScEDgFZ7%2BDusMXHT6maWDhzch3PYNjg6X6Fabg7wBPPpy8OX3E9rsTLmCxFp%2FO35XO0nCV%2BH6iRmrOd58c7A%2BIxGQP4Njaht4BZicwSCqbLbLwWa8E7P2mvTi79071HCcZIJM%2Bp9CY0W%2Fg7xhmmTrzbo4Kf0J%2BcSfR069xqg145AJjZexVv3ra%2FMsDV8Kqh%2FXvln8DIY45YG%2Fwu367yPRY66PkP0Wpii8YHYD%2FKe4kx3syftgAeO6QTZoLqZkpqJXPGNoy1PpVwq%2BHhNvoeqFwtQ4GkNh6%2FbXBv3DL4oJYewoVM87uzTW7r1n49FJz%2FsypoJmm9MMbHLxr4QZSzP%2BT%2BFtn2tO9WVraW%2Bw3ZtU%2BwXIh%2FpsAUwIBGtn4t91%2Fub0j0J7w94KgZfGwqLNYovNpQMgB6KBkjlR1OVSvWKXNzOnIys%2FZofTuEVPRuaJ2fB98bVN8QFWeNxmWP396R5hmnBJ7J59oUVhfO0DCgONi70fQtoEZ5OT7Cl%2FgT%2BwttaBtM%2FdW4Nj3zqAGTUL3wJwob8sZ%2BDs6nZ2gT1naZjf6Ioutgr3XgGhEqAX12VoxJlnz1EsA9a67whqV2Ll9plqK9mzXg%2BimK9m9B%2F7PbK9HFHpzIJ90nL4bhE2ypBUdpn%2Bp4eKUhto9QEXjSTjb%2BBhvpr7jjebwdgQYM1B6gHhK0Fo8qDSGaYfCytU0E%2Bk%3D%22%7D\n",
      "https://pulsar.ebay.com/plsr/clk/0/SADS/9?pld=%7B%22mecs%22%3A%22142625840597d358d0d8a3674a03b3e27df513ee8dcd%22%2C%22enc%22%3A%22AQACAAACcECrdTMMjTK3cnadl0AMuL06xYzY5U7IvyeYFg0XAx6GwDXvuFjAiGqrec4bEJ1fP6aobYnnHxcjsv%2FgMFActC0h7WNSEDj50RCrse6Gr7OXv6MDcHpFnjLdboezCfY9ucAwlqSzYy%2BpPAnYB7ZC7o167plor%2Fa6ZxNg5xM5DQY%2Fgn5dZP5P6esly9%2BSkKYi8TnlH1CjwnoUJ1%2FfE1kAkj4CL9XxJ3RwbxzowcsINdxnAUtePT%2Fi29KtilNV4m%2B1GPGG6%2FbskHF425OzwDiOduu7XAP6iUe9QqxRy2jdcyV8B1KZK2jsrA%2FTBJ0aM3dmOo0AAxpycg9OZe1nvndE8qjlJMaGZ7YDq4u%2FrQDpuqRZe9IvP%2BnWiH2IblpqkscD6KBknmEJjJoWB7FtDOD9fWkH%2FQIw7IWepBfu0ZjPzag%2FnVh0v%2F0ph2hvdxD77XtX%2BHJsCQOv3Q%2BfWhYAN3bvVZ5tz%2BUzfwG8G6vdUgGbnIDS6vwA3R81RiR3aYg46jtYRgPMAXr4WewydIzbvUmow%2FPgPSCLJPbXpvZN7smyezJO090LcU2mwEsjuSkeMA%2FQ8W%2B6D%2FI%2FZ7Vdft9qXfECam4imIYljb1uxEVJlZWOhUyKPL%2B7mpquPgB%2FTNQlrpvhCHEc755ZPEA9NGePeehVdYQaeckpVhnCAilRNaFFY2%2FWHv%2F6z2Z3PLflxyL5pAKvx3WPPUqS04MWBlqjhyxA%2BUZz2DuDW6uE4vkiXKUzPxmZC40TJJmzk59atOoIuYUt2ftkp5%2FOjOXJMPUCnqNDMnbfGYci1lXQnZjJtfeKIwKVxKg5zIZ37dotEms5m62Yow%3D%3D%22%7D\n",
      "https://www.ebay.com/itm/Trolls-Operation-Board-Game-New-Sealed-By-Dreamworks-Hasbro-Gaming/132440248273?hash=item1ed60dcfd1:g:boAAAOSwehZaLyL0\n",
      "https://www.ebay.com/itm/DRINK-A-PALOOZA-Party-Drinking-Board-Game-Fun-Party-Games-for-Adults/262859810233?epid=691117753&hash=item3d33aa65b9:g:LtIAAOSw791Ztusl\n",
      "https://www.ebay.com/itm/Jim-Hensons-Labyrinth-The-Board-Game/162719777221?epid=2016848289&hash=item25e2dac1c5:g:X5gAAOSwYeRaN8Xt\n",
      "https://www.ebay.com/itm/Draw-What-Fun-Adult-Party-Board-Game-New/332206517210?epid=691338568&hash=item4d590d2bda:g:El0AAOSwO7hZ~VOr\n",
      "https://www.ebay.com/itm/Speak-Out-Board-Game/173017076281?epid=4010890910&hash=item28489f1239:g:FIoAAOSwDkVaJpr5\n",
      "https://www.ebay.com/itm/Small-World-Board-Game-By-Days-Of-Wonder-Factory-Sealed/132440003640?epid=2255341770&hash=item1ed60a1438:g:An0AAOSwz~paLxcX\n",
      "https://www.ebay.com/itm/Funny-Kids-Body-Twister-Moves-Mat-Board-Game-Group-Outdoor-Sport-Toy-Gift/182488853935?epid=853462395&hash=item2a7d2eedaf:g:ag8AAOSwSlBYx24g\n",
      "https://pulsar.ebay.com/plsr/clk/0/SADS/9?pld=%7B%22mecs%22%3A%22142625845944317a7005c72447c6892cfa8dd555b4e9%22%2C%22enc%22%3A%22AQACAAACgECrdTMMjTK3cnadl0AMuL0s%2FUuAwcVTxn1r%2BapYbBd3ZpOeInwCoVwmWkQIP5jt78Lom6Ic63dJjKTTKdIvyFmD%2FOLW07wdv%2ByHWLPttM%2F3pNL3Az%2FnU1yl99MkNSdGrrplJ%2BrvcASe7bc55CGtBzk2Imls041ocSN0JnEDjoZdAV2oBUq%2BducQD9erxs6J1tPDwjipLKdInYNvs4jeETrRUiGjh8Sow77cLVIhk3Vxo55rMSF%2FUX5LyN1sXr6y620Y8emdYaqNSEvpd7Rx6vqrLSagImAB8SiUxJLyq9zrZy4lb2J28sTXkT0dLAPgehvn7LMrirgGEfFcQo%2FDAAcMTBovOpzq01Yf4rV%2FiXRiUSQapyvVZFuN1omc8uSmbUwlZMJfb%2BXvnuhM9EvkBvHYhffHSbTbqFfoQUeO64F%2BwIQ7x706%2BC7mApz6SLAkaH%2BrMAJ%2BzktQVYzB8n4Q2sA1QZKxXOhONlRcSa5RKdKOcibY7k6nmmwvOhx3SRu5eJKc9fY3bWOygivMI2MN9cnvYsEekorpJOu02Rx93X3lSMNtxD7MxnpV9s9baRTeSTVFafXSFpaH9fJD%2BkPr7wPl65Utz5jXp%2BYp2%2Bud3dZ6NWZysJ8xFz0IhI0K1vLU1WWWkOTQKNk2S1IkYitc67VU1mHxCv7wYQWq1pbSK1lhHC%2FaBmF5jBAmbr5NRLQZmWDFwc0pUlQoMKK1ZvVXqXn5kN9fsTREt7mIbbdWKhXtg9t%2BkiILSC8ysMHn%2Bf2wXYa5Mtf9HSZCJwMWRsbC%2B%2F88x%2FlQF6hn9VyBRr8uWND4r%2FwhA9Dn3uI36z9OEIkYk4xcwA%2BJVPfBU5xPI92McPQ%3D%22%7D\n",
      "https://pulsar.ebay.com/plsr/clk/0/SADS/9?pld=%7B%22mecs%22%3A%22253273023153a9b27272ac0140cf8b4fbc6abe3192b2%22%2C%22enc%22%3A%22AQACAAACoECrdTMMjTK3cnadl0AMuL0C4%2BoiKV63Y%2BnvhtV92X77ffPcdgRDjTQ%2BvKAIChJJ49XyUf0xxuapO82WOAhX4%2FTmoBDykvqCABovthU2Y3vt7ZD9jvK3GUNyj6txTZFuSB8SmkkJuXeK%2B2i0N2sfP92YK5yGviYSduIHMhbucE6EZgu7tlMCumuQ43eV%2BzCPUN8wYuivgmNdJMtSMRo9u%2B7fAPpDeey%2FekSeKrh052rOzhFFrd8PeQVdOrDUIQdcPrGIwhLtKArsYPqt0uCc34gadKqs7c8s0ILTLBcbCZkf%2B1M6Zm9Bs2j2a8s%2BkcWLy%2BaUDi1ziiJUuwk6seaC%2BTZW%2F4p8%2FkHMY3XTV5vtu8R4Sr%2F4mbqVgGgfpO83CZ6%2BagTPqArsyJtyVxTVyq1mxV%2Bg3wtev6QE0vWhABfXn1w%2F77AX06B1tx3idB7QH%2FOKEJ%2FP9nUXMxh45U1wyPOdj0Ig2CR4ST0cyAf0m3OkWRXvwYkK4vstv%2BCLL3%2FoWfbGGECek%2FEXHh3g1i%2BVA9EcPzboX78BEPdhySscl%2FTzWsNfM6%2B%2FC2IgJDLzGQeRWsbTPrXP5GPc8fkPH%2FkJnDHYDXMTWbBBYxYAD6IuKv1hpw11bxA31YbnBrX5EFZTg4RoEyqqG%2BsSQQF7%2Bru6kvvwJ8BWJ3OdxbkmHTk3nGUrkybLzyI6ye2uEN56H84xz8VSMIvzOZ55gsm4%2FRJlREjGyLi5it5bWUGQuua2J3SDBA2B%2FrlNaDUrqaAlp94DxFP90iAr1EHH6HVFnwvqs6kFaZPjhZArXrFxhJwc59OW4srsbC4Tdc56ImNjNP4xBqyhQfFegdHcQEgHtjmgA97uZ0PJdt%2FbkpNd3RmcWQUTFGICnw46vxa061sSxWXM%2FuyKRw%3D%3D%22%7D\n",
      "https://www.ebay.com/itm/New-Funny-Speak-Out-Board-Game-Mouthguard-Challenge-Game-Christmas-Gift/391630180217?hash=item5b2efa4f79:g:tsYAAOSwImRYRM3E\n",
      "https://www.ebay.com/itm/Monopoly-Tim-Burtons-Nightmare-Before-Christmas-Board-Game/302566861863?epid=2255405312&hash=item467263ec27:g:mk0AAOSwmOJaNFMH\n",
      "https://www.ebay.com/itm/2017-Speak-Out-Funny-Mouthpiece-Board-Challenge-Mouthguard-Christmas-XMAS-Game/142187966945?epid=503926149&hash=item211b1031e1:g:wyYAAOSwaEhZHnKV\n",
      "https://www.ebay.com/itm/Scrabble-Deluxe-Edition-Board-Game/172972482447?epid=710162736&hash=item2845f69f8f:g:dckAAOSwVtZaBPzu\n",
      "https://www.ebay.com/itm/Twilight-Struggle-The-Cold-War-1945-1989-New-Sealed-Board-Game-GMT-Games/122851034068?hash=item1c9a7e03d4:g:~VYAAOSwywRaKu5u\n",
      "https://www.ebay.com/itm/Tokaido-Board-Game/222760965581?hash=item33dd9695cd:g:ZzoAAOSw1cNaFcGx\n",
      "https://www.ebay.com/itm/Samurai-and-Katana-Board-Game/112700613191?hash=item1a3d7ae247:g:13kAAOSw5cNYY8k8\n",
      "https://www.ebay.com/itm/New-Sealed-Small-World-Days-of-Wonder-Board-Game-By-Philippe-Keyaer21/202136286499?hash=item2f1042f523:g:W8QAAOSwiBJaJgHO\n",
      "https://www.ebay.com/itm/NEW-JUMANJI-BOARD-GAME-CARDINAL-EDITION-IN-REAL-WOODEN-WOOD-BOX-PRIORITY-SHIP/263380854778?epid=23011124317&hash=item3d52b8e7fa:g:EZ0AAOSw8AhaNJZ6\n",
      "https://www.ebay.com/itm/Monopoly-Game-Ultimate-Banking-Edition-Electronic-Game-Board-New/322640064890?hash=item4b1ed8b17a:g:9Z8AAOSwiiRZiM4K\n",
      "https://www.ebay.com/itm/Azul-Board-Game-Plan-B-Games-Sealed-New-HOT-GAME-FOR-CHRISTMAS/263378401261?hash=item3d529377ed:g:COwAAOSwEaBaGG4m\n",
      "https://www.ebay.com/itm/Brand-New-Captain-Sonar-Board-Game-Free-Shipping/162698043159?epid=2254529950&hash=item25e18f1f17:g:R1sAAOSwNbJZ1X7c\n",
      "https://pulsar.ebay.com/plsr/clk/0/SADS/9?pld=%7B%22mecs%22%3A%221426258398892e9b7e8da90a4fecbd1d6671406f8614%22%2C%22enc%22%3A%22AQACAAACcECrdTMMjTK3cnadl0AMuL0w0MZBvz%2BZVEXWDUbZcgqTjC3BuOEEgEvhkoZlNRQnNBh8OxHhzQEtDZHXx6ZUvHwS5Nuov7hVdnn4aLX7c2%2Ft7E0IIgZiBRMy3j0cr9iAcOt6sdqtKz%2B8TKb7%2BL5PgoLkjswsWIQSlRaSF4MAyvfFMinP7J2yPi8vvk7FUA9oFmb5Hi%2BQSA1ZXNCADSJV8s80wHmNgHi1DrqcLXv5eIK9EwhbDOOar4D5cVzrdVluzpCxCYg32zZyEXVdY25hrmoPbs5gA4yFVG8CYLGYjDIe3SP1kJJyqi9%2FSPGeFvKQvBnYWeeh3hQFEw0uDr3mgdzFQqXaM5%2FbUsMPIhr%2FxAdolZLz%2B3ujtIPy064SqWzIzlLTdn6yCGruodK5vZrAFz3QN%2FDRDTyhi6PhoeXEvMpWJAhbvVF3KKMofAMWtgg5%2BXnm2CUfrpHWIXtpAVN5Z5fu0ZQip5BrXuZOIClC%2FCrHIuB5%2FQJYQP5KPUwD2VNP17KG%2BdHOzoUEAABkoyMZMgeSvbYZAqzKVHYxRG5qgfn9I57FUk2398nVaZBFaieALGxMOvaeICc6Q3zLP45g48kuj4HOUfkigS%2BEiHk%2BWzq%2BTz1RafaR06B2po6UhCRCQbIFDDj0uJPDGYAlokqiHwfuS8zc9NUUEsgY5ZvTFVPUqhAFec65LxOChOHdZyg7Xnd2WZUbHu2OqyX0qZMd2Xh1ZJ5DGzkT0XBAujirOl%2FFAWG1mJfjQqxIOgOKOdrdvHmA%2F1HMQF0TVqAGnV4CMClAuk32xPF8IcApC%2BLRhfW5HxPabKg3gPXVGHpLDMCgxg%3D%3D%22%7D\n",
      "https://pulsar.ebay.com/plsr/clk/0/SADS/9?pld=%7B%22mecs%22%3A%221426258404210d82e8a2729741108041457abefd8e33%22%2C%22enc%22%3A%22AQACAAACsECrdTMMjTK3cnadl0AMuL0Toqr8BjyhjFypKnmECDrDBrRhTS0pMVp%2BeM%2FwTCTz%2FuhujfZ%2BDDWkDcMGFuRp2y1J1vjZl1NVwr2Ebtoz2Jcuz91bsgm%2BrTU8DpssUYDYOYALSJPoahco%2Brk7mUwIqbOTZSpxqEoxbLNHdy4c0IVYZ9pc6vVFy8jTuxF%2FuzoBaPCfflpvxQmy3WGYUbInGkWlsFNQkTwvZ04HzMoh6%2BQTABy3OlFxtPUNR8jbcVg%2FhLuWMAkWA2a0j6d8VAr3d5hY7GEn5HLdbMUMA7aFX3TVfDgrenI1KtwB66K0SRAUX2w6RlDaSuzN2Wlp7blehTGGy%2FXSUjREwxHOODt3yR8xAcc7P6YrsK7QuFUWG%2F7xq5MnKF%2FtB6qaPV3oeUUVSlkneYQTzqogA%2BAPw5uQwyx39hbaQ9IXevrRCEa8dU2lCfdYXK%2BOr5LSpD%2F97MnOa7LXMCEC2rUgNL28g3suYkIBCMe6h3OVBtyoBLb7ma7EWWYcZC6oW15IQZDwTuWC0MZ9gyAz0bzg8fQ3KeYP06h%2BFNAw7Wl%2BRdKWlIFwaD7zP7sV4N1FlAlgHTrSQPhwIKJXNyEDartfdWQGO0kgPPcwauh76hN9jFJmSWPmPGT12ENoDw8%2B9lRLCnaxdpuWkMSDFrQ%2FPU4EKxHNsvuYY846Of0ResTPQ297qYwOYd%2FFjOpkbiSwzUgBQyFVnoii5rGpehtTQJ82Qj30kvyK%2Bda364WimnhYUV3mA6xGUZMVgVzmYrPD1kBj54nNWMeO0jSDkMZbostmbJ6whC6u5S7Vh39dJV87vAXhAzZGvFFfbe3MnczTXkkICdaeSqXa7FBMA50GJavz1XrN5HJCvkvAUV94T552B5Jr%2BLfGdy4c%2Fo4aV93uLa%2Be1vSbiJI0FQ0%3D%22%7D\n",
      "https://www.ebay.com/itm/Soggy-Doggy-Board-Game-NEW-FREE-SHIPPING/172993825529?epid=2190815902&hash=item28473c4af9:g:8ZAAAOSw-wJaFcaj\n",
      "https://www.ebay.com/itm/OEJ-Catacombs-Castles-Dexterity-Board-Game/372169918197?hash=item56a70e46f5:g:C6gAAOSw3RZaMv7U\n",
      "https://www.ebay.com/itm/Angry-Birds-Space-Board-Game-Planet-Block-Version-NEW-IN-BOX/142611523621?epid=2254430085&hash=item21344f2825:g:mCEAAOSwYIxX3YM-\n",
      "https://www.ebay.com/itm/Harry-Potter-Clue-Board-Game/282734163250?epid=2254591590&hash=item41d444f532:g:lKsAAOSw1NFaDIbD\n",
      "https://www.ebay.com/itm/Jax-Jumbo-Sequence-BOARD-GAME-SET-Box-Edition-Sequence-GAME/132421905793?epid=691274132&hash=item1ed4f5ed81:g:li0AAOSwjDZYd~-P\n",
      "https://www.ebay.com/itm/Catan-Game-of-Thrones-Board-Game/302557010204?hash=item4671cd991c:g:iz8AAOSwtnpaKUJl\n",
      "https://www.ebay.com/itm/Star-Wars-Rebellion-Board-Game-BRAND-NEW-No-Sales-Tax-FREE-SAME-DAY-SHIPPING/132425242941?hash=item1ed528d93d:g:o2AAAOSwFyhaJ9WA\n",
      "https://www.ebay.com/itm/Asmodee-Mysterium-Board-Game-Brand-New-Factory-Sealed-3558380029564/152829834958?epid=1640579576&hash=item23955e36ce:g:5j0AAOSwsFpaNEKt\n",
      "https://www.ebay.com/itm/The-Nightmare-Before-Christmas-Monopoly-Board-Game/391529871762?hash=item5b28ffb992:g:sKQAAOSw0A9aJ3vi\n",
      "https://www.ebay.com/itm/The-Walking-Dead-Clue-Board-Game/401416330113?epid=2214827400&hash=item5d76471b81:g:Q2UAAOSwZB9aAi7M\n",
      "https://www.ebay.com/itm/NEW-JUMANJI-BOARD-GAME-CARDINAL-EDITION-REAL-WOODEN-WOOD-BOX-WOW/272987074108?epid=23011124317&hash=item3f8f4c2e3c:g:FEkAAOSwk~ZaLxPR\n",
      "https://www.ebay.com/itm/Smart-Ass-Family-Trivia-Board-Game-Party-Night-Games-Ages-12-NEW-Free-Ship/231818480802?hash=item35f9754ca2:g:vWQAAOSwnHZYW58T\n",
      "https://www.ebay.com/itm/7-Wonders-Duel-Board-Game-Brand-New-Factory-Sealed/263393927573?hash=item3d53806195:g:9jUAAOSwGwlaN~cR\n",
      "https://www.ebay.com/itm/Harry-Potter-Clue-Board-Game/222762399414?epid=1573238094&hash=item33ddac76b6:g:KFkAAOSwiBJaMpjz\n",
      "https://www.ebay.com/itm/New-Where-in-the-World-is-Carmen-Sandiego-Board-Game-1992-Vintage-Sealed/232602763579?epid=1625424373&hash=item362834813b:g:0vEAAOSw1NFaOaCi\n",
      "https://www.ebay.com/itm/Trouble-Game-Board-Game-New-Free-Shipping-Sealed-Toy-Gift-Present-Boys-Girls/253262855799?hash=item3af7a47e77:g:0AkAAOSwGzhaDf8E\n",
      "https://www.ebay.com/itm/Cardinal-Games-Jumanji-the-Game-Action-GAMES-30-danger-cards-game-board/132353548728?epid=2278689836&hash=item1ed0e2e1b8:g:v-cAAOSw4P1Z12BV\n",
      "https://www.ebay.com/itm/Stranger-Things-Monopoly-Board-Game/202150979639?hash=item2f11232837:g:gG8AAOSwl9RaNsl3\n",
      "https://www.ebay.com/itm/2003-Dungeons-and-Dragons-Board-Game-Eternal-Winter-Expansion-INCOMPLETE/272989953903?hash=item3f8f781f6f:g:HLIAAOSwjlBaOecq\n",
      "https://www.ebay.com/itm/Original-Jumanji-Action-Board-Game-w-Accessories-Family-Children-Xmas-Gift-Toys/263380297259?hash=item3d52b0662b:g:Z3EAAOSwZqZaLWu6\n",
      "https://pulsar.ebay.com/plsr/clk/0/SADS/9?pld=%7B%22mecs%22%3A%22192395974781439b5f2c50804d2b8c5ec5f564bfceaf%22%2C%22enc%22%3A%22AQACAAACgECrdTMMjTK3cnadl0AMuL1rTu1OgMR%2FP4JQoqU%2FfZw18IFeDm3K2R5S6zRnsR4wO%2FcG2yvb2Rvqf1%2B3SYXMl9TXXBK%2BrbuY11PYpsGHK4Uq1waB0XDcUdXI3BGdm8RHlGJiORYGqomSQwRwle2XaiGdS4YiFrKi1%2FIFyT5SieF7uZ4pzs3DSX1wyZygJ%2FJ7xNzZK6w35go2tLi4aWoNv3ULiZ8qBFsECRxkNMWOJcXDR4AxZA1TTFOSIaQu6ZVDtaLh1FoRAZIK7jAoqqWHrMLZwe50dwwUxRDNEvk1VTqX%2BI3Xr4GllQcYAGmkQSDo%2Ba4PqePDBzL24DDgUThIWIbuvnIA%2F4WIBeBXg7tneYqTPqkbpfwKEwETAoB7ffM7AqRIYyGkL%2FZtre7oolpJljWeChxxLesp1fMHgvT9%2FpBSK%2FbhjD%2B9I1BcfYMHm8SroIbnOO4YKe8S9q%2FYncciTNryq8H58fgIkJdBnaieRwH3t7DYCKcxJq7ITRKYUAEZ5u7JCLxgblmtqi%2Fweh8rXqncfMAUT%2FiWCs9rmvzJEYJd2k6%2Fplzy7Bu%2FBpOGTOuz95mEvb%2B38bz5463pV1AABd7ix1XJBt9SwZH3SiS%2FY0VRpc6fuu3VLeNEoo2crSaP%2FH4S3wXABrVWmQaMGixn7Xw8UofMF2KTSfvCKsbUaBJu2SvYAWPNR%2FmVkMSbOUPGEGVnaZpzlx9DStax7b4plXJ6Kt%2FneDGHMkC3bi4S6%2BbgjixCZX%2B6%2FsnaguaGJm%2FWsBxyl97okNnftv%2B6r15bKowiFLE6HafKxDAGD1dwcuMGs%2FTREd2YqcM%2BJHW3r2K6txaBlWguE8tm6ENQDk5dyFI%3D%22%7D\n",
      "https://pulsar.ebay.com/plsr/clk/0/SADS/9?pld=%7B%22mecs%22%3A%2214262584483053a0eb1de1aa4486b66c695aacc76fca%22%2C%22enc%22%3A%22AQACAAACkECrdTMMjTK3cnadl0AMuL0SjwWGxJfZdpjioXMWXUTtze3JLr0ndEYDMeRexlH5tgwtddafOXy%2FBEO7E%2FcX2QgjeejIRNCsgVanPW48xFnmkp%2BucIVQjg2Vh60bq5AlVwkKILiqPmgvGi8NMzvJhcyyRxShi%2BJ5qv98sNOVrOr06ZBXkTYdcMh8p%2FsqEuPs3oflY7VnCwwLo5tvs36sgZ%2FmDoV%2F28HH7JomVScwrrVHmyHFoyfpqPHe1L4gxsxlY%2F%2FU8Xaa3JXbZQLomv3oa%2B3kk0Uf4CciZYz2jzezZ3pKkGMlokwTYIjPD71IsmIec8mvwkNIeSYcx71euwoH%2BkYXTLyMJPHKYgcFqoFfgjia9fEDkIXoW4sN9GxmBzup4Ngp7CvgLqP6%2BcgLxX6NYuzOruKBDyCgELXhukf%2FPyPGNc5aBHfhys%2F7JfBeNWHVvaX%2FP7ElyRWE1j5kWnIgWNh5MNRmGmKu4QNFKQTBH%2F7iIXmiwbvxETxkHJGmKxOI2ybRxvk0VHOUOtpGwfw0RAln9RlWdjZSXnDEE9%2BHolRq0WZgw6QWUzJMfz6BdpCsrlZh5AjASywPMDpsaqAwfcQq8n8LGzIdZRa0M57iECGs6Ve5d3XhohlAhAg1A2%2FJabiO7Q4M6rLPnC%2B%2FV4ANmG%2F0M5RaiHO7fJSI8IGTfzJDUpSLXXbdKOrcJCQ5lDXzMNWntUy1Zwdp3ipYuNqEzn28NikyLdJ%2BTdr7QMP26oDoJjbh1f%2BHoznwEfmYF1wH2lcRcx3PwvappzN%2F9htIKV0zpeSaJUWSkwaiXa3kmtFP4LluRyeoMg9GrNMf7EjBkxmdQ5DrbDLH39fj4fuJQo93YoKe86Ce40yTGhKJoG5a%22%7D\n"
     ]
    }
   ],
   "source": [
    "for tag in soup.find_all('h3', class_='lvtitle'):\n",
    "    print (tag.a['href'])"
   ]
  },
  {
   "cell_type": "code",
   "execution_count": null,
   "metadata": {
    "collapsed": true
   },
   "outputs": [],
   "source": []
  }
 ],
 "metadata": {
  "kernelspec": {
   "display_name": "Python 3",
   "language": "python",
   "name": "python3"
  },
  "language_info": {
   "codemirror_mode": {
    "name": "ipython",
    "version": 3
   },
   "file_extension": ".py",
   "mimetype": "text/x-python",
   "name": "python",
   "nbconvert_exporter": "python",
   "pygments_lexer": "ipython3",
   "version": "3.6.3"
  }
 },
 "nbformat": 4,
 "nbformat_minor": 2
}
