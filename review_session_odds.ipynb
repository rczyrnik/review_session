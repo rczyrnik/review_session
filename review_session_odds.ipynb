{
 "cells": [
  {
   "cell_type": "markdown",
   "metadata": {},
   "source": [
    "Probability & Odds\n",
    "Probability:\n",
    "$p \\in [0,1]$\n",
    "\n",
    "$p \\sim \\frac{\\#successes}{\\#trials}$\n",
    "\n",
    "Odds:\n",
    "$d = \\frac{p}{1-p}$\n",
    "\n",
    "$d \\in [0, \\infty]$\n",
    "\n",
    "$d \\sim \\frac{\\#successes}{\\#failures}$\n",
    "\n",
    "Log odds\n",
    "$\\theta = \\ln(d) = \\ln(\\frac{p}{1-p})$\n",
    "\n",
    "$\\theta \\in (-\\infty, \\infty)$\n",
    "\n",
    "$\\theta$ is the quantity we estimate with linear regression\n",
    "\n",
    "$\\theta= \\beta_{0} + \\sum_{i=1}^{n}\\beta_{i}x_{i}$\n",
    "\n",
    "$\\theta = \\ln(\\frac{p}{1-p})$\n",
    "\n",
    "$p = \\frac{1}{1+e^{-\\theta}}$\n",
    "\n",
    "Interpreting $\\beta_i$\n",
    "Let's work in just one dimension, and consider only a one-unit change in $x$\n",
    "$\\theta(x) =\\beta_0 + \\beta_1x$\n",
    "\n",
    "$\\theta_0 = \\beta_0$\n",
    "\n",
    "$\\theta_1 = \\beta_0 + \\beta_1$\n",
    "\n",
    "$d_0 = e^{\\theta_0} = e^{\\beta_0}$\n",
    "\n",
    "$d_1 = e^{\\theta_1} = e^{\\beta_0 + \\beta_1}$\n",
    "\n",
    "$\\frac{d_1}{d_0} = e^{\\beta_1}$\n",
    "\n",
    "This is as interpretable as it gets, which is OK! Odds are very intuitive! \"the number of successes over the number of failures\"\n",
    "$\\ldots$\n",
    "\n",
    "$p_1 = \\frac{1}{1 + (\\frac{1}{p_0}-1)e^{-\\beta_1}}$\n",
    "\n",
    "$\\beta_1 \\rightarrow \\infty \\Rightarrow p_1 \\rightarrow 1$\n",
    "\n",
    "$\\beta_1 = 0 \\Rightarrow p_1 = p_0$\n",
    "\n",
    "$\\beta_1 \\rightarrow -\\infty \\Rightarrow p_1 \\rightarrow 0$"
   ]
  },
  {
   "cell_type": "code",
   "execution_count": null,
   "metadata": {
    "collapsed": true
   },
   "outputs": [],
   "source": []
  }
 ],
 "metadata": {
  "kernelspec": {
   "display_name": "Python 3",
   "language": "python",
   "name": "python3"
  },
  "language_info": {
   "codemirror_mode": {
    "name": "ipython",
    "version": 3
   },
   "file_extension": ".py",
   "mimetype": "text/x-python",
   "name": "python",
   "nbconvert_exporter": "python",
   "pygments_lexer": "ipython3",
   "version": "3.6.3"
  }
 },
 "nbformat": 4,
 "nbformat_minor": 2
}
